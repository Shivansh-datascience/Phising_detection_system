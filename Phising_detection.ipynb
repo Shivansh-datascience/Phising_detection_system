{
  "nbformat": 4,
  "nbformat_minor": 0,
  "metadata": {
    "colab": {
      "provenance": [],
      "toc_visible": true,
      "authorship_tag": "ABX9TyO2tA3PgXU5b0wm/f79zqWi",
      "include_colab_link": true
    },
    "kernelspec": {
      "name": "python3",
      "display_name": "Python 3"
    },
    "language_info": {
      "name": "python"
    }
  },
  "cells": [
    {
      "cell_type": "markdown",
      "metadata": {
        "id": "view-in-github",
        "colab_type": "text"
      },
      "source": [
        "<a href=\"https://colab.research.google.com/github/Shivansh-datascience/Phising_detection_system/blob/main/Phising_detection.ipynb\" target=\"_parent\"><img src=\"https://colab.research.google.com/assets/colab-badge.svg\" alt=\"Open In Colab\"/></a>"
      ]
    },
    {
      "cell_type": "markdown",
      "source": [
        "# Phising Detection System"
      ],
      "metadata": {
        "id": "fDK2u5iHMpZL"
      }
    },
    {
      "cell_type": "markdown",
      "source": [
        "Problem Statement: Website and URL Phishing Detection System with Risk Scoring (Classification and Regression)\n",
        "Background:\n",
        "Phishing attacks targeting users through fraudulent websites and URLs are growing increasingly sophisticated. Attackers use fake websites that impersonate legitimate ones, fooling users into providing sensitive information like usernames, passwords, and financial details. Unlike email phishing, website and URL phishing relies on disguising web addresses and creating convincing, yet fraudulent, web pages. Detecting these phishing websites and URLs is crucial in mitigating data breaches and other cybercrimes.\n",
        "\n",
        "While traditional methods rely on manual inspection of URLs and websites, these methods are insufficient due to the volume and variety of attacks. The objective is to develop an automated phishing detection system that can classify phishing URLs and websites and assign a risk score to each potential phishing threat. This system will help identify high-risk threats and allow users to make quick, informed decisions.\n",
        "\n",
        "Objective:\n",
        "The objective of this project is to build a Phishing Detection System capable of:\n",
        "\n",
        "Classifying phishing URLs and websites: Identifying if a given URL or website is phishing or legitimate.\n",
        "Assigning a risk score: Calculating a risk score that quantifies the likelihood of a URL or website being a phishing attempt. The higher the score, the more suspicious the URL or website is.\n",
        "This system will focus on URL-based and website-based phishing without considering email content or features.\n",
        "\n",
        "Specific Problem:\n",
        "Classification: Detect phishing websites and URLs by classifying them as either phishing or legitimate based on features like domain name, SSL certificate status, URL structure, and other key characteristics.\n",
        "Risk Scoring (Regression): Assign a risk score to each phishing attempt, indicating the likelihood that the URL or website is phishing. The risk score can be used for prioritizing phishing attempts, especially when faced with large-scale attacks.\n",
        "Key Challenges:\n",
        "Obfuscated URLs: Phishing URLs may use techniques like domain name spoofing, URL shortening, or encoding to disguise their intent. Identifying these patterns can be difficult.\n",
        "\n",
        "Behavioral Mimicry: Fraudulent websites often mimic the appearance and behavior of legitimate sites (e.g., fake login pages), which requires advanced feature extraction and detection mechanisms.\n",
        "\n",
        "Dynamic Phishing Techniques: Phishing tactics continuously evolve, requiring the system to be adaptable to new strategies such as using HTTPS (SSL certificates) to look legitimate, or using look-alike domains.\n",
        "\n",
        "Data Imbalance: Phishing URLs and websites are generally less common than legitimate ones, leading to potential class imbalance, which can affect model performance.\n",
        "\n",
        "Feature Extraction: Efficiently extracting the most relevant features (e.g., domain age, URL length, SSL certificate presence, presence of suspicious keywords) is critical for building an effective detection system.\n",
        "\n",
        "Approach:\n",
        "1. Classification Task (Phishing Detection):\n",
        "The classification model will predict whether a given URL or website is phishing or legitimate.\n",
        "\n",
        "Key features for phishing classification could include:\n",
        "\n",
        "URL Features:\n",
        "Length of the URL: Phishing URLs often have unusually long or short lengths.\n",
        "Domain name: Look-alike domains (e.g., \"google.com\" vs. \"goggle.com\").\n",
        "Special characters: Presence of unusual characters or query strings in the URL.\n",
        "Use of HTTPS: Phishing websites often fail to implement HTTPS or use self-signed certificates.\n",
        "Encoding: Phishing URLs may contain base64 or URL encoding to obfuscate their intent.\n",
        "Website Features:\n",
        "SSL certificate status: Phishing websites may lack a valid SSL certificate or show warnings in the browser.\n",
        "Suspicious content: Fake login forms, misleading user interfaces, and lack of security features like two-factor authentication.\n",
        "Domain age: Newly created domains are more likely to be phishing sites.\n",
        "Possible classification algorithms:\n",
        "\n",
        "Logistic Regression\n",
        "Decision Trees / Random Forests\n",
        "Support Vector Machines (SVM)\n",
        "Neural Networks (Deep Learning)\n",
        "Gradient Boosting Methods (e.g., XGBoost, LightGBM)\n",
        "2. Regression Task (Risk Scoring):\n",
        "The regression model will predict a risk score that quantifies the likelihood of a phishing attempt for a given URL or website.\n",
        "\n",
        "Features influencing the risk score:\n",
        "\n",
        "Suspicious URL Features: Unusual URL length, special characters, or obscure domain names.\n",
        "SSL Certificate Presence: Websites with self-signed or invalid certificates are more likely to be phishing.\n",
        "Domain Reputation: New or low-reputation domains are more likely to be associated with phishing.\n",
        "Suspicious Website Behavior: Fake login forms, requests for sensitive information, or abnormal user interactions.\n",
        "Possible regression algorithms:\n",
        "\n",
        "Linear Regression\n",
        "Decision Trees / Random Forests\n",
        "Gradient Boosting Machines (GBM)\n",
        "Neural Networks (Deep Learning)\n",
        "3. Model Evaluation:\n",
        "For Classification: Evaluate using metrics like accuracy, precision, recall, F1-score, and ROC-AUC.\n",
        "For Regression: Evaluate using mean squared error (MSE), mean absolute error (MAE), R-squared, and root mean squared error (RMSE).\n",
        "4. Dataset:\n",
        "To train and test the models, we will use datasets containing labeled phishing and legitimate URLs/websites, such as:\n",
        "\n",
        "Phishing Websites Data (contains labeled phishing URLs).\n",
        "UCI Phishing Websites Data (contains features of phishing websites).\n",
        "Phishing URL Dataset (a collection of phishing and legitimate URLs).\n",
        "Expected Outcomes:\n",
        "Phishing URL and Website Classification: The system will classify a URL or website as phishing or legitimate with high accuracy.\n",
        "Risk Scoring: The system will provide a risk score for each potential phishing attempt, allowing for prioritized handling of higher-risk threats.\n",
        "Real-Time Detection: The system will be capable of detecting phishing websites and URLs in real-time.\n",
        "User-Friendly Interface: The system will have an interface where users can input URLs or websites and receive classification results (phishing or legitimate) and a risk score.\n",
        "Deliverables:\n",
        "Phishing Detection Model: A machine learning model capable of classifying phishing URLs and websites.\n",
        "Risk Scoring Model: A regression model that assigns a risk score to each phishing attempt.\n",
        "User Interface (UI): A front-end application where users can input URLs/websites to check for phishing and view the classification and risk score.\n",
        "Documentation: Detailed documentation on the methodologies used for both classification and regression tasks, along with performance evaluation results.\n",
        "Conclusion:\n",
        "This Phishing Detection and Risk Scoring System will provide an automated solution to identify phishing websites and URLs, with the added functionality of risk scoring to assess the likelihood of a phishing attempt. By utilizing both classification and regression techniques, the system will help users make informed decisions and prioritize the most dangerous phishing threats."
      ],
      "metadata": {
        "id": "QZuBjTQZMw58"
      }
    },
    {
      "cell_type": "code",
      "source": [
        "#importing all packages and  dependencies according to requirements\n",
        "import pandas as pd\n",
        "from pyspark.sql.session import SparkSession\n",
        "import numpy as np\n",
        "import matplotlib.pyplot as plt\n",
        "import seaborn as sns\n",
        "import warnings\n",
        "warnings.filterwarnings('ignore')\n",
        "\n",
        "import plotly.graph_objects as go\n",
        "import plotly.express as px\n",
        "from plotly.subplots import make_subplots\n",
        "\n",
        "from scipy import stats  #statistical testing\n",
        "from sklearn.preprocessing import OneHotEncoder , MinMaxScaler\n",
        "from sklearn.pipeline import Pipeline\n",
        "from sklearn.model_selection import train_test_split , GridSearchCV , StratifiedKFold , cross_val_score\n",
        "from sklearn.feature_selection import chi2 , RFE\n",
        "\n",
        "#Classification Module packages for baseline model\n",
        "from sklearn.linear_model import LogisticRegression\n",
        "from sklearn.tree import plot_tree , DecisionTreeClassifier\n",
        "from sklearn.ensemble import RandomForestClassifier , VotingClassifier , GradientBoostingClassifier\n",
        "from xgboost import XGBClassifier\n",
        "\n",
        "#adding the base line functionality for evaluation of metrics\n",
        "from sklearn.metrics import confusion_matrix , classification_report , roc_auc_score , accuracy_score\n",
        "from mlxtend.plotting import plot_decision_regions"
      ],
      "metadata": {
        "id": "wBuhqqL9NYa1"
      },
      "execution_count": 258,
      "outputs": []
    },
    {
      "cell_type": "markdown",
      "source": [
        "setting up the baseline model to identify the results and can improve the accuracy for model"
      ],
      "metadata": {
        "id": "Wsvq-vt9dwix"
      }
    },
    {
      "cell_type": "markdown",
      "source": [
        "# Extracted all the csv files from MYSQL Database and loading Files through colab environment"
      ],
      "metadata": {
        "id": "DxyUHR4BqIE6"
      }
    },
    {
      "cell_type": "code",
      "source": [
        "#created an sparksession for loading the large handle csv file\n",
        "def load_csv_file(sparksession,file_path):\n",
        "  sparksession.read.csv(file_path,header=True,inferSchema=True)\n",
        "  return sparksession.read.csv(file_path,header=True,inferSchema=True)\n",
        "\n",
        "\n",
        "\"\"\" creating an spark session for customer details\"\"\"\n",
        "spark = SparkSession.builder.appName(\"Loading customer details\").getOrCreate()\n",
        "customer_details = load_csv_file(spark,\"/content/customer_details.csv\")\n",
        "customer_details.show(5)  #fetching top 5 rows\n",
        "\n",
        "\"\"\" creating an spark session for phishing details \"\"\"\n",
        "phishing_spark = SparkSession.builder.appName(\"Loading phishing details\").getOrCreate()\n",
        "phishing_details = load_csv_file(phishing_spark,\"/content/phishing_details.csv\")\n",
        "phishing_details.show(5)   #fetching top 5 ros"
      ],
      "metadata": {
        "id": "l4NQUlUhOKKW",
        "colab": {
          "base_uri": "https://localhost:8080/"
        },
        "outputId": "857a169a-0bdd-45d8-96a9-6e8853fd5c0d"
      },
      "execution_count": 4,
      "outputs": [
        {
          "output_type": "stream",
          "name": "stdout",
          "text": [
            "+----------+--------------+-----------+----------+-----------------+--------------------+----------+--------------+-------------+----------------+-----------+\n",
            "|URL_Length|Has_IP_Address|HTTPS_Usage|Domain_Age|Domain_Expiration|Number_of_Subdomains|Alexa_Rank|Number_of_Dots|Shortened_URL|Suspicious_Words|Customer_ID|\n",
            "+----------+--------------+-----------+----------+-----------------+--------------------+----------+--------------+-------------+----------------+-----------+\n",
            "|       112|             0|          0|         1|              256|                   1|    558200|             4|            1|               0|          1|\n",
            "|       102|             0|          1|         9|             1474|                   1|    612421|             1|            1|               1|          2|\n",
            "|        24|             0|          0|        18|              721|                   1|      6206|             3|            0|               1|          3|\n",
            "|       116|             0|          1|        14|             2001|                   0|    206480|             1|            1|               1|          4|\n",
            "|        81|             0|          1|         6|             2452|                   1|    212706|             4|            0|               1|          5|\n",
            "+----------+--------------+-----------+----------+-----------------+--------------------+----------+--------------+-------------+----------------+-----------+\n",
            "only showing top 5 rows\n",
            "\n",
            "+------------+-------------------+--------------+-------------------+----------------------+------------+---------------+-------------+-----------+-----------------+-----------+\n",
            "|Iframe_Usage|Mouse_Over_Behavior|Page_Redirects|DNS_Record_Validity|SSL_Certificate_Issuer|Loading_Time|Number_of_Links|Favicon_Match|Is_Phishing|       Risk_Score|Customer_ID|\n",
            "+------------+-------------------+--------------+-------------------+----------------------+------------+---------------+-------------+-----------+-----------------+-----------+\n",
            "|           1|                  1|             3|                  1|                     0|        4.19|             22|            0|          0|24.81904152758369|          1|\n",
            "|           0|                  1|             3|                  0|                     1|        2.71|             52|            1|          0|9.198523576463376|          2|\n",
            "|           1|                  1|             1|                  1|                     1|        8.24|             73|            1|          1|81.92575114131532|          3|\n",
            "|           0|                  1|             3|                  1|                     1|        8.77|             12|            1|          0| 8.77793188625634|          4|\n",
            "|           0|                  1|             4|                  1|                     1|        9.55|             76|            0|          0|46.09570886866655|          5|\n",
            "+------------+-------------------+--------------+-------------------+----------------------+------------+---------------+-------------+-----------+-----------------+-----------+\n",
            "only showing top 5 rows\n",
            "\n"
          ]
        }
      ]
    },
    {
      "cell_type": "markdown",
      "source": [
        "# Converting the schema into pandas dataframe"
      ],
      "metadata": {
        "id": "A7UjQ6mOsfON"
      }
    },
    {
      "cell_type": "code",
      "source": [
        "#converting the customer details into pandas dataframe\n",
        "customer_details = customer_details.toPandas()  #converted into pandas dataframe\n",
        "phishing_details = phishing_details.toPandas()  #converted into pandas dataframe\n",
        "print(f\" top 5 rows of customer details {customer_details.head()}\")\n",
        "print(f\" top 5 rows of phishing details {phishing_details.head()}\")"
      ],
      "metadata": {
        "colab": {
          "base_uri": "https://localhost:8080/"
        },
        "id": "AGYBnRMyrMSR",
        "outputId": "fa8aca8c-fec9-4325-fdd9-8d1330d6a556"
      },
      "execution_count": 5,
      "outputs": [
        {
          "output_type": "stream",
          "name": "stdout",
          "text": [
            " top 5 rows of customer details    URL_Length  Has_IP_Address  HTTPS_Usage  Domain_Age  Domain_Expiration  \\\n",
            "0         112               0            0           1                256   \n",
            "1         102               0            1           9               1474   \n",
            "2          24               0            0          18                721   \n",
            "3         116               0            1          14               2001   \n",
            "4          81               0            1           6               2452   \n",
            "\n",
            "   Number_of_Subdomains  Alexa_Rank  Number_of_Dots  Shortened_URL  \\\n",
            "0                     1      558200               4              1   \n",
            "1                     1      612421               1              1   \n",
            "2                     1        6206               3              0   \n",
            "3                     0      206480               1              1   \n",
            "4                     1      212706               4              0   \n",
            "\n",
            "   Suspicious_Words  Customer_ID  \n",
            "0                 0            1  \n",
            "1                 1            2  \n",
            "2                 1            3  \n",
            "3                 1            4  \n",
            "4                 1            5  \n",
            " top 5 rows of phishing details    Iframe_Usage  Mouse_Over_Behavior  Page_Redirects  DNS_Record_Validity  \\\n",
            "0             1                    1               3                    1   \n",
            "1             0                    1               3                    0   \n",
            "2             1                    1               1                    1   \n",
            "3             0                    1               3                    1   \n",
            "4             0                    1               4                    1   \n",
            "\n",
            "   SSL_Certificate_Issuer  Loading_Time  Number_of_Links  Favicon_Match  \\\n",
            "0                       0          4.19               22              0   \n",
            "1                       1          2.71               52              1   \n",
            "2                       1          8.24               73              1   \n",
            "3                       1          8.77               12              1   \n",
            "4                       1          9.55               76              0   \n",
            "\n",
            "   Is_Phishing  Risk_Score  Customer_ID  \n",
            "0            0   24.819042            1  \n",
            "1            0    9.198524            2  \n",
            "2            1   81.925751            3  \n",
            "3            0    8.777932            4  \n",
            "4            0   46.095709            5  \n"
          ]
        }
      ]
    },
    {
      "cell_type": "markdown",
      "source": [
        "# Structure of each table"
      ],
      "metadata": {
        "id": "SBiHm58_s_Vc"
      }
    },
    {
      "cell_type": "code",
      "source": [
        "\"\"\" STructure for customer details \"\"\"\n",
        "customer_details.info()\n",
        "print(f\" memory used by each columns : {customer_details.memory_usage()}\")\n",
        "print(f\" total size of each columns : {customer_details.size}\")\n",
        "print(f\" total rows and columns : {customer_details.shape}\")\n",
        "print(f\" descritive statistical summary : {customer_details.describe()}\")"
      ],
      "metadata": {
        "colab": {
          "base_uri": "https://localhost:8080/"
        },
        "id": "viB7pKhvs0qt",
        "outputId": "44943f4a-68ab-4096-9a56-f28e8abe5136"
      },
      "execution_count": 6,
      "outputs": [
        {
          "output_type": "stream",
          "name": "stdout",
          "text": [
            "<class 'pandas.core.frame.DataFrame'>\n",
            "RangeIndex: 15000 entries, 0 to 14999\n",
            "Data columns (total 11 columns):\n",
            " #   Column                Non-Null Count  Dtype\n",
            "---  ------                --------------  -----\n",
            " 0   URL_Length            15000 non-null  int32\n",
            " 1   Has_IP_Address        15000 non-null  int32\n",
            " 2   HTTPS_Usage           15000 non-null  int32\n",
            " 3   Domain_Age            15000 non-null  int32\n",
            " 4   Domain_Expiration     15000 non-null  int32\n",
            " 5   Number_of_Subdomains  15000 non-null  int32\n",
            " 6   Alexa_Rank            15000 non-null  int32\n",
            " 7   Number_of_Dots        15000 non-null  int32\n",
            " 8   Shortened_URL         15000 non-null  int32\n",
            " 9   Suspicious_Words      15000 non-null  int32\n",
            " 10  Customer_ID           15000 non-null  int32\n",
            "dtypes: int32(11)\n",
            "memory usage: 644.7 KB\n",
            " memory used by each columns : Index                     132\n",
            "URL_Length              60000\n",
            "Has_IP_Address          60000\n",
            "HTTPS_Usage             60000\n",
            "Domain_Age              60000\n",
            "Domain_Expiration       60000\n",
            "Number_of_Subdomains    60000\n",
            "Alexa_Rank              60000\n",
            "Number_of_Dots          60000\n",
            "Shortened_URL           60000\n",
            "Suspicious_Words        60000\n",
            "Customer_ID             60000\n",
            "dtype: int64\n",
            " total size of each columns : 165000\n",
            " total rows and columns : (15000, 11)\n",
            " descritive statistical summary :          URL_Length  Has_IP_Address   HTTPS_Usage    Domain_Age  \\\n",
            "count  15000.000000    15000.000000  15000.000000  15000.000000   \n",
            "mean      79.205867        0.502533      0.492933      9.473933   \n",
            "std       40.298295        0.500010      0.499967      5.759195   \n",
            "min       10.000000        0.000000      0.000000      0.000000   \n",
            "25%       44.000000        0.000000      0.000000      5.000000   \n",
            "50%       79.000000        1.000000      0.000000      9.000000   \n",
            "75%      114.000000        1.000000      1.000000     14.000000   \n",
            "max      149.000000        1.000000      1.000000     19.000000   \n",
            "\n",
            "       Domain_Expiration  Number_of_Subdomains     Alexa_Rank  Number_of_Dots  \\\n",
            "count       15000.000000          15000.000000   15000.000000     15000.00000   \n",
            "mean         1815.157400              1.996133  501955.484400         2.48220   \n",
            "std          1055.699839              1.413831  288886.281551         1.11787   \n",
            "min             1.000000              0.000000     195.000000         1.00000   \n",
            "25%           899.000000              1.000000  252695.500000         1.00000   \n",
            "50%          1798.000000              2.000000  501485.500000         2.00000   \n",
            "75%          2734.250000              3.000000  752803.250000         3.00000   \n",
            "max          3649.000000              4.000000  999968.000000         4.00000   \n",
            "\n",
            "       Shortened_URL  Suspicious_Words   Customer_ID  \n",
            "count   15000.000000      15000.000000  15000.000000  \n",
            "mean        0.503133          0.499733   7500.500000  \n",
            "std         0.500007          0.500017   4330.271354  \n",
            "min         0.000000          0.000000      1.000000  \n",
            "25%         0.000000          0.000000   3750.750000  \n",
            "50%         1.000000          0.000000   7500.500000  \n",
            "75%         1.000000          1.000000  11250.250000  \n",
            "max         1.000000          1.000000  15000.000000  \n"
          ]
        }
      ]
    },
    {
      "cell_type": "code",
      "source": [
        "\"\"\" structure for phishing details \"\"\"\n",
        "phishing_details.info()\n",
        "print(f\" memory used by each columns : {phishing_details.memory_usage()}\")\n",
        "print(f\" total size of each columns : {phishing_details.size}\")\n",
        "print(f\" total rows and columns : {phishing_details.shape}\")\n",
        "print(f\" descritive statistical summary : {phishing_details.describe()}\")"
      ],
      "metadata": {
        "colab": {
          "base_uri": "https://localhost:8080/"
        },
        "id": "xc3OaIHPthd3",
        "outputId": "f560a605-6afa-4949-de05-856255411a47"
      },
      "execution_count": 7,
      "outputs": [
        {
          "output_type": "stream",
          "name": "stdout",
          "text": [
            "<class 'pandas.core.frame.DataFrame'>\n",
            "RangeIndex: 15000 entries, 0 to 14999\n",
            "Data columns (total 11 columns):\n",
            " #   Column                  Non-Null Count  Dtype  \n",
            "---  ------                  --------------  -----  \n",
            " 0   Iframe_Usage            15000 non-null  int32  \n",
            " 1   Mouse_Over_Behavior     15000 non-null  int32  \n",
            " 2   Page_Redirects          15000 non-null  int32  \n",
            " 3   DNS_Record_Validity     15000 non-null  int32  \n",
            " 4   SSL_Certificate_Issuer  15000 non-null  int32  \n",
            " 5   Loading_Time            15000 non-null  float64\n",
            " 6   Number_of_Links         15000 non-null  int32  \n",
            " 7   Favicon_Match           15000 non-null  int32  \n",
            " 8   Is_Phishing             15000 non-null  int32  \n",
            " 9   Risk_Score              15000 non-null  float64\n",
            " 10  Customer_ID             15000 non-null  int32  \n",
            "dtypes: float64(2), int32(9)\n",
            "memory usage: 761.8 KB\n",
            " memory used by each columns : Index                        132\n",
            "Iframe_Usage               60000\n",
            "Mouse_Over_Behavior        60000\n",
            "Page_Redirects             60000\n",
            "DNS_Record_Validity        60000\n",
            "SSL_Certificate_Issuer     60000\n",
            "Loading_Time              120000\n",
            "Number_of_Links            60000\n",
            "Favicon_Match              60000\n",
            "Is_Phishing                60000\n",
            "Risk_Score                120000\n",
            "Customer_ID                60000\n",
            "dtype: int64\n",
            " total size of each columns : 165000\n",
            " total rows and columns : (15000, 11)\n",
            " descritive statistical summary :        Iframe_Usage  Mouse_Over_Behavior  Page_Redirects  DNS_Record_Validity  \\\n",
            "count  15000.000000         15000.000000    15000.000000         15000.000000   \n",
            "mean       0.492067             0.503267        1.995133             0.497600   \n",
            "std        0.499954             0.500006        1.416349             0.500011   \n",
            "min        0.000000             0.000000        0.000000             0.000000   \n",
            "25%        0.000000             0.000000        1.000000             0.000000   \n",
            "50%        0.000000             1.000000        2.000000             0.000000   \n",
            "75%        1.000000             1.000000        3.000000             1.000000   \n",
            "max        1.000000             1.000000        4.000000             1.000000   \n",
            "\n",
            "       SSL_Certificate_Issuer  Loading_Time  Number_of_Links  Favicon_Match  \\\n",
            "count            15000.000000  15000.000000     15000.000000   15000.000000   \n",
            "mean                 0.507133      5.230749        51.693200       0.499933   \n",
            "std                  0.499966      2.734364        27.389412       0.500017   \n",
            "min                  0.000000      0.500000         5.000000       0.000000   \n",
            "25%                  0.000000      2.870000        28.000000       0.000000   \n",
            "50%                  1.000000      5.210000        51.000000       0.000000   \n",
            "75%                  1.000000      7.610000        76.000000       1.000000   \n",
            "max                  1.000000     10.000000        99.000000       1.000000   \n",
            "\n",
            "        Is_Phishing    Risk_Score   Customer_ID  \n",
            "count  15000.000000  15000.000000  15000.000000  \n",
            "mean       0.497600     52.261264   7500.500000  \n",
            "std        0.500011     30.498914   4330.271354  \n",
            "min        0.000000      0.007321      1.000000  \n",
            "25%        0.000000     24.803954   3750.750000  \n",
            "50%        0.000000     49.766349   7500.500000  \n",
            "75%        1.000000     79.595868  11250.250000  \n",
            "max        1.000000     99.996397  15000.000000  \n"
          ]
        }
      ]
    },
    {
      "cell_type": "markdown",
      "source": [
        "from above observation result we can see that customer ID column is ame equivalent to customer details and phishing details\n",
        "so merge both table"
      ],
      "metadata": {
        "id": "oryMuAtVt_EZ"
      }
    },
    {
      "cell_type": "markdown",
      "source": [
        "# merging both the dataframe"
      ],
      "metadata": {
        "id": "QaBy5-Q9uQlc"
      }
    },
    {
      "cell_type": "code",
      "source": [
        "\"\"\" Merging both the DataFrame \"\"\"\n",
        "phishing_data = pd.merge(customer_details,phishing_details,on=\"Customer_ID\")\n",
        "print(phishing_data.head(5))  #top 5 rows\n",
        "print(phishing_data.tail(5))  #bottom 5 rows"
      ],
      "metadata": {
        "colab": {
          "base_uri": "https://localhost:8080/"
        },
        "id": "-Fs7-ZCbtyf9",
        "outputId": "942b624e-cdfb-4104-d9d1-877c055bed4d"
      },
      "execution_count": 8,
      "outputs": [
        {
          "output_type": "stream",
          "name": "stdout",
          "text": [
            "   URL_Length  Has_IP_Address  HTTPS_Usage  Domain_Age  Domain_Expiration  \\\n",
            "0         112               0            0           1                256   \n",
            "1         102               0            1           9               1474   \n",
            "2          24               0            0          18                721   \n",
            "3         116               0            1          14               2001   \n",
            "4          81               0            1           6               2452   \n",
            "\n",
            "   Number_of_Subdomains  Alexa_Rank  Number_of_Dots  Shortened_URL  \\\n",
            "0                     1      558200               4              1   \n",
            "1                     1      612421               1              1   \n",
            "2                     1        6206               3              0   \n",
            "3                     0      206480               1              1   \n",
            "4                     1      212706               4              0   \n",
            "\n",
            "   Suspicious_Words  ...  Iframe_Usage  Mouse_Over_Behavior  Page_Redirects  \\\n",
            "0                 0  ...             1                    1               3   \n",
            "1                 1  ...             0                    1               3   \n",
            "2                 1  ...             1                    1               1   \n",
            "3                 1  ...             0                    1               3   \n",
            "4                 1  ...             0                    1               4   \n",
            "\n",
            "   DNS_Record_Validity  SSL_Certificate_Issuer  Loading_Time  Number_of_Links  \\\n",
            "0                    1                       0          4.19               22   \n",
            "1                    0                       1          2.71               52   \n",
            "2                    1                       1          8.24               73   \n",
            "3                    1                       1          8.77               12   \n",
            "4                    1                       1          9.55               76   \n",
            "\n",
            "   Favicon_Match  Is_Phishing  Risk_Score  \n",
            "0              0            0   24.819042  \n",
            "1              1            0    9.198524  \n",
            "2              1            1   81.925751  \n",
            "3              1            0    8.777932  \n",
            "4              0            0   46.095709  \n",
            "\n",
            "[5 rows x 21 columns]\n",
            "       URL_Length  Has_IP_Address  HTTPS_Usage  Domain_Age  Domain_Expiration  \\\n",
            "14995          82               1            0          12               2907   \n",
            "14996         109               1            0           0                885   \n",
            "14997          38               1            1          11                905   \n",
            "14998          67               0            0          10                503   \n",
            "14999          57               1            0           4               2985   \n",
            "\n",
            "       Number_of_Subdomains  Alexa_Rank  Number_of_Dots  Shortened_URL  \\\n",
            "14995                     4      111304               1              1   \n",
            "14996                     4      855885               4              0   \n",
            "14997                     0       54183               2              0   \n",
            "14998                     0      753712               3              1   \n",
            "14999                     1      350260               3              1   \n",
            "\n",
            "       Suspicious_Words  ...  Iframe_Usage  Mouse_Over_Behavior  \\\n",
            "14995                 1  ...             1                    1   \n",
            "14996                 1  ...             0                    0   \n",
            "14997                 0  ...             0                    1   \n",
            "14998                 1  ...             1                    0   \n",
            "14999                 1  ...             0                    1   \n",
            "\n",
            "       Page_Redirects  DNS_Record_Validity  SSL_Certificate_Issuer  \\\n",
            "14995               4                    1                       1   \n",
            "14996               4                    0                       0   \n",
            "14997               4                    1                       1   \n",
            "14998               1                    1                       1   \n",
            "14999               2                    1                       1   \n",
            "\n",
            "       Loading_Time  Number_of_Links  Favicon_Match  Is_Phishing  Risk_Score  \n",
            "14995          7.03               65              0            0   17.856419  \n",
            "14996          5.26               73              0            1   80.292622  \n",
            "14997          4.96               73              1            0   25.445359  \n",
            "14998          8.86               15              0            0   46.912222  \n",
            "14999          9.02               37              1            0    2.359107  \n",
            "\n",
            "[5 rows x 21 columns]\n"
          ]
        }
      ]
    },
    {
      "cell_type": "code",
      "source": [
        "phishing_data"
      ],
      "metadata": {
        "colab": {
          "base_uri": "https://localhost:8080/",
          "height": 444
        },
        "id": "kcUjN-ZNutYA",
        "outputId": "0d41f2e4-0932-43ef-e3fa-8f624ee60364"
      },
      "execution_count": 9,
      "outputs": [
        {
          "output_type": "execute_result",
          "data": {
            "text/plain": [
              "       URL_Length  Has_IP_Address  HTTPS_Usage  Domain_Age  Domain_Expiration  \\\n",
              "0             112               0            0           1                256   \n",
              "1             102               0            1           9               1474   \n",
              "2              24               0            0          18                721   \n",
              "3             116               0            1          14               2001   \n",
              "4              81               0            1           6               2452   \n",
              "...           ...             ...          ...         ...                ...   \n",
              "14995          82               1            0          12               2907   \n",
              "14996         109               1            0           0                885   \n",
              "14997          38               1            1          11                905   \n",
              "14998          67               0            0          10                503   \n",
              "14999          57               1            0           4               2985   \n",
              "\n",
              "       Number_of_Subdomains  Alexa_Rank  Number_of_Dots  Shortened_URL  \\\n",
              "0                         1      558200               4              1   \n",
              "1                         1      612421               1              1   \n",
              "2                         1        6206               3              0   \n",
              "3                         0      206480               1              1   \n",
              "4                         1      212706               4              0   \n",
              "...                     ...         ...             ...            ...   \n",
              "14995                     4      111304               1              1   \n",
              "14996                     4      855885               4              0   \n",
              "14997                     0       54183               2              0   \n",
              "14998                     0      753712               3              1   \n",
              "14999                     1      350260               3              1   \n",
              "\n",
              "       Suspicious_Words  ...  Iframe_Usage  Mouse_Over_Behavior  \\\n",
              "0                     0  ...             1                    1   \n",
              "1                     1  ...             0                    1   \n",
              "2                     1  ...             1                    1   \n",
              "3                     1  ...             0                    1   \n",
              "4                     1  ...             0                    1   \n",
              "...                 ...  ...           ...                  ...   \n",
              "14995                 1  ...             1                    1   \n",
              "14996                 1  ...             0                    0   \n",
              "14997                 0  ...             0                    1   \n",
              "14998                 1  ...             1                    0   \n",
              "14999                 1  ...             0                    1   \n",
              "\n",
              "       Page_Redirects  DNS_Record_Validity  SSL_Certificate_Issuer  \\\n",
              "0                   3                    1                       0   \n",
              "1                   3                    0                       1   \n",
              "2                   1                    1                       1   \n",
              "3                   3                    1                       1   \n",
              "4                   4                    1                       1   \n",
              "...               ...                  ...                     ...   \n",
              "14995               4                    1                       1   \n",
              "14996               4                    0                       0   \n",
              "14997               4                    1                       1   \n",
              "14998               1                    1                       1   \n",
              "14999               2                    1                       1   \n",
              "\n",
              "       Loading_Time  Number_of_Links  Favicon_Match  Is_Phishing  Risk_Score  \n",
              "0              4.19               22              0            0   24.819042  \n",
              "1              2.71               52              1            0    9.198524  \n",
              "2              8.24               73              1            1   81.925751  \n",
              "3              8.77               12              1            0    8.777932  \n",
              "4              9.55               76              0            0   46.095709  \n",
              "...             ...              ...            ...          ...         ...  \n",
              "14995          7.03               65              0            0   17.856419  \n",
              "14996          5.26               73              0            1   80.292622  \n",
              "14997          4.96               73              1            0   25.445359  \n",
              "14998          8.86               15              0            0   46.912222  \n",
              "14999          9.02               37              1            0    2.359107  \n",
              "\n",
              "[15000 rows x 21 columns]"
            ],
            "text/html": [
              "\n",
              "  <div id=\"df-08656172-cf3f-4e0b-bab1-dfa885fa1c96\" class=\"colab-df-container\">\n",
              "    <div>\n",
              "<style scoped>\n",
              "    .dataframe tbody tr th:only-of-type {\n",
              "        vertical-align: middle;\n",
              "    }\n",
              "\n",
              "    .dataframe tbody tr th {\n",
              "        vertical-align: top;\n",
              "    }\n",
              "\n",
              "    .dataframe thead th {\n",
              "        text-align: right;\n",
              "    }\n",
              "</style>\n",
              "<table border=\"1\" class=\"dataframe\">\n",
              "  <thead>\n",
              "    <tr style=\"text-align: right;\">\n",
              "      <th></th>\n",
              "      <th>URL_Length</th>\n",
              "      <th>Has_IP_Address</th>\n",
              "      <th>HTTPS_Usage</th>\n",
              "      <th>Domain_Age</th>\n",
              "      <th>Domain_Expiration</th>\n",
              "      <th>Number_of_Subdomains</th>\n",
              "      <th>Alexa_Rank</th>\n",
              "      <th>Number_of_Dots</th>\n",
              "      <th>Shortened_URL</th>\n",
              "      <th>Suspicious_Words</th>\n",
              "      <th>...</th>\n",
              "      <th>Iframe_Usage</th>\n",
              "      <th>Mouse_Over_Behavior</th>\n",
              "      <th>Page_Redirects</th>\n",
              "      <th>DNS_Record_Validity</th>\n",
              "      <th>SSL_Certificate_Issuer</th>\n",
              "      <th>Loading_Time</th>\n",
              "      <th>Number_of_Links</th>\n",
              "      <th>Favicon_Match</th>\n",
              "      <th>Is_Phishing</th>\n",
              "      <th>Risk_Score</th>\n",
              "    </tr>\n",
              "  </thead>\n",
              "  <tbody>\n",
              "    <tr>\n",
              "      <th>0</th>\n",
              "      <td>112</td>\n",
              "      <td>0</td>\n",
              "      <td>0</td>\n",
              "      <td>1</td>\n",
              "      <td>256</td>\n",
              "      <td>1</td>\n",
              "      <td>558200</td>\n",
              "      <td>4</td>\n",
              "      <td>1</td>\n",
              "      <td>0</td>\n",
              "      <td>...</td>\n",
              "      <td>1</td>\n",
              "      <td>1</td>\n",
              "      <td>3</td>\n",
              "      <td>1</td>\n",
              "      <td>0</td>\n",
              "      <td>4.19</td>\n",
              "      <td>22</td>\n",
              "      <td>0</td>\n",
              "      <td>0</td>\n",
              "      <td>24.819042</td>\n",
              "    </tr>\n",
              "    <tr>\n",
              "      <th>1</th>\n",
              "      <td>102</td>\n",
              "      <td>0</td>\n",
              "      <td>1</td>\n",
              "      <td>9</td>\n",
              "      <td>1474</td>\n",
              "      <td>1</td>\n",
              "      <td>612421</td>\n",
              "      <td>1</td>\n",
              "      <td>1</td>\n",
              "      <td>1</td>\n",
              "      <td>...</td>\n",
              "      <td>0</td>\n",
              "      <td>1</td>\n",
              "      <td>3</td>\n",
              "      <td>0</td>\n",
              "      <td>1</td>\n",
              "      <td>2.71</td>\n",
              "      <td>52</td>\n",
              "      <td>1</td>\n",
              "      <td>0</td>\n",
              "      <td>9.198524</td>\n",
              "    </tr>\n",
              "    <tr>\n",
              "      <th>2</th>\n",
              "      <td>24</td>\n",
              "      <td>0</td>\n",
              "      <td>0</td>\n",
              "      <td>18</td>\n",
              "      <td>721</td>\n",
              "      <td>1</td>\n",
              "      <td>6206</td>\n",
              "      <td>3</td>\n",
              "      <td>0</td>\n",
              "      <td>1</td>\n",
              "      <td>...</td>\n",
              "      <td>1</td>\n",
              "      <td>1</td>\n",
              "      <td>1</td>\n",
              "      <td>1</td>\n",
              "      <td>1</td>\n",
              "      <td>8.24</td>\n",
              "      <td>73</td>\n",
              "      <td>1</td>\n",
              "      <td>1</td>\n",
              "      <td>81.925751</td>\n",
              "    </tr>\n",
              "    <tr>\n",
              "      <th>3</th>\n",
              "      <td>116</td>\n",
              "      <td>0</td>\n",
              "      <td>1</td>\n",
              "      <td>14</td>\n",
              "      <td>2001</td>\n",
              "      <td>0</td>\n",
              "      <td>206480</td>\n",
              "      <td>1</td>\n",
              "      <td>1</td>\n",
              "      <td>1</td>\n",
              "      <td>...</td>\n",
              "      <td>0</td>\n",
              "      <td>1</td>\n",
              "      <td>3</td>\n",
              "      <td>1</td>\n",
              "      <td>1</td>\n",
              "      <td>8.77</td>\n",
              "      <td>12</td>\n",
              "      <td>1</td>\n",
              "      <td>0</td>\n",
              "      <td>8.777932</td>\n",
              "    </tr>\n",
              "    <tr>\n",
              "      <th>4</th>\n",
              "      <td>81</td>\n",
              "      <td>0</td>\n",
              "      <td>1</td>\n",
              "      <td>6</td>\n",
              "      <td>2452</td>\n",
              "      <td>1</td>\n",
              "      <td>212706</td>\n",
              "      <td>4</td>\n",
              "      <td>0</td>\n",
              "      <td>1</td>\n",
              "      <td>...</td>\n",
              "      <td>0</td>\n",
              "      <td>1</td>\n",
              "      <td>4</td>\n",
              "      <td>1</td>\n",
              "      <td>1</td>\n",
              "      <td>9.55</td>\n",
              "      <td>76</td>\n",
              "      <td>0</td>\n",
              "      <td>0</td>\n",
              "      <td>46.095709</td>\n",
              "    </tr>\n",
              "    <tr>\n",
              "      <th>...</th>\n",
              "      <td>...</td>\n",
              "      <td>...</td>\n",
              "      <td>...</td>\n",
              "      <td>...</td>\n",
              "      <td>...</td>\n",
              "      <td>...</td>\n",
              "      <td>...</td>\n",
              "      <td>...</td>\n",
              "      <td>...</td>\n",
              "      <td>...</td>\n",
              "      <td>...</td>\n",
              "      <td>...</td>\n",
              "      <td>...</td>\n",
              "      <td>...</td>\n",
              "      <td>...</td>\n",
              "      <td>...</td>\n",
              "      <td>...</td>\n",
              "      <td>...</td>\n",
              "      <td>...</td>\n",
              "      <td>...</td>\n",
              "      <td>...</td>\n",
              "    </tr>\n",
              "    <tr>\n",
              "      <th>14995</th>\n",
              "      <td>82</td>\n",
              "      <td>1</td>\n",
              "      <td>0</td>\n",
              "      <td>12</td>\n",
              "      <td>2907</td>\n",
              "      <td>4</td>\n",
              "      <td>111304</td>\n",
              "      <td>1</td>\n",
              "      <td>1</td>\n",
              "      <td>1</td>\n",
              "      <td>...</td>\n",
              "      <td>1</td>\n",
              "      <td>1</td>\n",
              "      <td>4</td>\n",
              "      <td>1</td>\n",
              "      <td>1</td>\n",
              "      <td>7.03</td>\n",
              "      <td>65</td>\n",
              "      <td>0</td>\n",
              "      <td>0</td>\n",
              "      <td>17.856419</td>\n",
              "    </tr>\n",
              "    <tr>\n",
              "      <th>14996</th>\n",
              "      <td>109</td>\n",
              "      <td>1</td>\n",
              "      <td>0</td>\n",
              "      <td>0</td>\n",
              "      <td>885</td>\n",
              "      <td>4</td>\n",
              "      <td>855885</td>\n",
              "      <td>4</td>\n",
              "      <td>0</td>\n",
              "      <td>1</td>\n",
              "      <td>...</td>\n",
              "      <td>0</td>\n",
              "      <td>0</td>\n",
              "      <td>4</td>\n",
              "      <td>0</td>\n",
              "      <td>0</td>\n",
              "      <td>5.26</td>\n",
              "      <td>73</td>\n",
              "      <td>0</td>\n",
              "      <td>1</td>\n",
              "      <td>80.292622</td>\n",
              "    </tr>\n",
              "    <tr>\n",
              "      <th>14997</th>\n",
              "      <td>38</td>\n",
              "      <td>1</td>\n",
              "      <td>1</td>\n",
              "      <td>11</td>\n",
              "      <td>905</td>\n",
              "      <td>0</td>\n",
              "      <td>54183</td>\n",
              "      <td>2</td>\n",
              "      <td>0</td>\n",
              "      <td>0</td>\n",
              "      <td>...</td>\n",
              "      <td>0</td>\n",
              "      <td>1</td>\n",
              "      <td>4</td>\n",
              "      <td>1</td>\n",
              "      <td>1</td>\n",
              "      <td>4.96</td>\n",
              "      <td>73</td>\n",
              "      <td>1</td>\n",
              "      <td>0</td>\n",
              "      <td>25.445359</td>\n",
              "    </tr>\n",
              "    <tr>\n",
              "      <th>14998</th>\n",
              "      <td>67</td>\n",
              "      <td>0</td>\n",
              "      <td>0</td>\n",
              "      <td>10</td>\n",
              "      <td>503</td>\n",
              "      <td>0</td>\n",
              "      <td>753712</td>\n",
              "      <td>3</td>\n",
              "      <td>1</td>\n",
              "      <td>1</td>\n",
              "      <td>...</td>\n",
              "      <td>1</td>\n",
              "      <td>0</td>\n",
              "      <td>1</td>\n",
              "      <td>1</td>\n",
              "      <td>1</td>\n",
              "      <td>8.86</td>\n",
              "      <td>15</td>\n",
              "      <td>0</td>\n",
              "      <td>0</td>\n",
              "      <td>46.912222</td>\n",
              "    </tr>\n",
              "    <tr>\n",
              "      <th>14999</th>\n",
              "      <td>57</td>\n",
              "      <td>1</td>\n",
              "      <td>0</td>\n",
              "      <td>4</td>\n",
              "      <td>2985</td>\n",
              "      <td>1</td>\n",
              "      <td>350260</td>\n",
              "      <td>3</td>\n",
              "      <td>1</td>\n",
              "      <td>1</td>\n",
              "      <td>...</td>\n",
              "      <td>0</td>\n",
              "      <td>1</td>\n",
              "      <td>2</td>\n",
              "      <td>1</td>\n",
              "      <td>1</td>\n",
              "      <td>9.02</td>\n",
              "      <td>37</td>\n",
              "      <td>1</td>\n",
              "      <td>0</td>\n",
              "      <td>2.359107</td>\n",
              "    </tr>\n",
              "  </tbody>\n",
              "</table>\n",
              "<p>15000 rows × 21 columns</p>\n",
              "</div>\n",
              "    <div class=\"colab-df-buttons\">\n",
              "\n",
              "  <div class=\"colab-df-container\">\n",
              "    <button class=\"colab-df-convert\" onclick=\"convertToInteractive('df-08656172-cf3f-4e0b-bab1-dfa885fa1c96')\"\n",
              "            title=\"Convert this dataframe to an interactive table.\"\n",
              "            style=\"display:none;\">\n",
              "\n",
              "  <svg xmlns=\"http://www.w3.org/2000/svg\" height=\"24px\" viewBox=\"0 -960 960 960\">\n",
              "    <path d=\"M120-120v-720h720v720H120Zm60-500h600v-160H180v160Zm220 220h160v-160H400v160Zm0 220h160v-160H400v160ZM180-400h160v-160H180v160Zm440 0h160v-160H620v160ZM180-180h160v-160H180v160Zm440 0h160v-160H620v160Z\"/>\n",
              "  </svg>\n",
              "    </button>\n",
              "\n",
              "  <style>\n",
              "    .colab-df-container {\n",
              "      display:flex;\n",
              "      gap: 12px;\n",
              "    }\n",
              "\n",
              "    .colab-df-convert {\n",
              "      background-color: #E8F0FE;\n",
              "      border: none;\n",
              "      border-radius: 50%;\n",
              "      cursor: pointer;\n",
              "      display: none;\n",
              "      fill: #1967D2;\n",
              "      height: 32px;\n",
              "      padding: 0 0 0 0;\n",
              "      width: 32px;\n",
              "    }\n",
              "\n",
              "    .colab-df-convert:hover {\n",
              "      background-color: #E2EBFA;\n",
              "      box-shadow: 0px 1px 2px rgba(60, 64, 67, 0.3), 0px 1px 3px 1px rgba(60, 64, 67, 0.15);\n",
              "      fill: #174EA6;\n",
              "    }\n",
              "\n",
              "    .colab-df-buttons div {\n",
              "      margin-bottom: 4px;\n",
              "    }\n",
              "\n",
              "    [theme=dark] .colab-df-convert {\n",
              "      background-color: #3B4455;\n",
              "      fill: #D2E3FC;\n",
              "    }\n",
              "\n",
              "    [theme=dark] .colab-df-convert:hover {\n",
              "      background-color: #434B5C;\n",
              "      box-shadow: 0px 1px 3px 1px rgba(0, 0, 0, 0.15);\n",
              "      filter: drop-shadow(0px 1px 2px rgba(0, 0, 0, 0.3));\n",
              "      fill: #FFFFFF;\n",
              "    }\n",
              "  </style>\n",
              "\n",
              "    <script>\n",
              "      const buttonEl =\n",
              "        document.querySelector('#df-08656172-cf3f-4e0b-bab1-dfa885fa1c96 button.colab-df-convert');\n",
              "      buttonEl.style.display =\n",
              "        google.colab.kernel.accessAllowed ? 'block' : 'none';\n",
              "\n",
              "      async function convertToInteractive(key) {\n",
              "        const element = document.querySelector('#df-08656172-cf3f-4e0b-bab1-dfa885fa1c96');\n",
              "        const dataTable =\n",
              "          await google.colab.kernel.invokeFunction('convertToInteractive',\n",
              "                                                    [key], {});\n",
              "        if (!dataTable) return;\n",
              "\n",
              "        const docLinkHtml = 'Like what you see? Visit the ' +\n",
              "          '<a target=\"_blank\" href=https://colab.research.google.com/notebooks/data_table.ipynb>data table notebook</a>'\n",
              "          + ' to learn more about interactive tables.';\n",
              "        element.innerHTML = '';\n",
              "        dataTable['output_type'] = 'display_data';\n",
              "        await google.colab.output.renderOutput(dataTable, element);\n",
              "        const docLink = document.createElement('div');\n",
              "        docLink.innerHTML = docLinkHtml;\n",
              "        element.appendChild(docLink);\n",
              "      }\n",
              "    </script>\n",
              "  </div>\n",
              "\n",
              "\n",
              "<div id=\"df-4221aa20-fb75-4698-b9b6-6361f839278b\">\n",
              "  <button class=\"colab-df-quickchart\" onclick=\"quickchart('df-4221aa20-fb75-4698-b9b6-6361f839278b')\"\n",
              "            title=\"Suggest charts\"\n",
              "            style=\"display:none;\">\n",
              "\n",
              "<svg xmlns=\"http://www.w3.org/2000/svg\" height=\"24px\"viewBox=\"0 0 24 24\"\n",
              "     width=\"24px\">\n",
              "    <g>\n",
              "        <path d=\"M19 3H5c-1.1 0-2 .9-2 2v14c0 1.1.9 2 2 2h14c1.1 0 2-.9 2-2V5c0-1.1-.9-2-2-2zM9 17H7v-7h2v7zm4 0h-2V7h2v10zm4 0h-2v-4h2v4z\"/>\n",
              "    </g>\n",
              "</svg>\n",
              "  </button>\n",
              "\n",
              "<style>\n",
              "  .colab-df-quickchart {\n",
              "      --bg-color: #E8F0FE;\n",
              "      --fill-color: #1967D2;\n",
              "      --hover-bg-color: #E2EBFA;\n",
              "      --hover-fill-color: #174EA6;\n",
              "      --disabled-fill-color: #AAA;\n",
              "      --disabled-bg-color: #DDD;\n",
              "  }\n",
              "\n",
              "  [theme=dark] .colab-df-quickchart {\n",
              "      --bg-color: #3B4455;\n",
              "      --fill-color: #D2E3FC;\n",
              "      --hover-bg-color: #434B5C;\n",
              "      --hover-fill-color: #FFFFFF;\n",
              "      --disabled-bg-color: #3B4455;\n",
              "      --disabled-fill-color: #666;\n",
              "  }\n",
              "\n",
              "  .colab-df-quickchart {\n",
              "    background-color: var(--bg-color);\n",
              "    border: none;\n",
              "    border-radius: 50%;\n",
              "    cursor: pointer;\n",
              "    display: none;\n",
              "    fill: var(--fill-color);\n",
              "    height: 32px;\n",
              "    padding: 0;\n",
              "    width: 32px;\n",
              "  }\n",
              "\n",
              "  .colab-df-quickchart:hover {\n",
              "    background-color: var(--hover-bg-color);\n",
              "    box-shadow: 0 1px 2px rgba(60, 64, 67, 0.3), 0 1px 3px 1px rgba(60, 64, 67, 0.15);\n",
              "    fill: var(--button-hover-fill-color);\n",
              "  }\n",
              "\n",
              "  .colab-df-quickchart-complete:disabled,\n",
              "  .colab-df-quickchart-complete:disabled:hover {\n",
              "    background-color: var(--disabled-bg-color);\n",
              "    fill: var(--disabled-fill-color);\n",
              "    box-shadow: none;\n",
              "  }\n",
              "\n",
              "  .colab-df-spinner {\n",
              "    border: 2px solid var(--fill-color);\n",
              "    border-color: transparent;\n",
              "    border-bottom-color: var(--fill-color);\n",
              "    animation:\n",
              "      spin 1s steps(1) infinite;\n",
              "  }\n",
              "\n",
              "  @keyframes spin {\n",
              "    0% {\n",
              "      border-color: transparent;\n",
              "      border-bottom-color: var(--fill-color);\n",
              "      border-left-color: var(--fill-color);\n",
              "    }\n",
              "    20% {\n",
              "      border-color: transparent;\n",
              "      border-left-color: var(--fill-color);\n",
              "      border-top-color: var(--fill-color);\n",
              "    }\n",
              "    30% {\n",
              "      border-color: transparent;\n",
              "      border-left-color: var(--fill-color);\n",
              "      border-top-color: var(--fill-color);\n",
              "      border-right-color: var(--fill-color);\n",
              "    }\n",
              "    40% {\n",
              "      border-color: transparent;\n",
              "      border-right-color: var(--fill-color);\n",
              "      border-top-color: var(--fill-color);\n",
              "    }\n",
              "    60% {\n",
              "      border-color: transparent;\n",
              "      border-right-color: var(--fill-color);\n",
              "    }\n",
              "    80% {\n",
              "      border-color: transparent;\n",
              "      border-right-color: var(--fill-color);\n",
              "      border-bottom-color: var(--fill-color);\n",
              "    }\n",
              "    90% {\n",
              "      border-color: transparent;\n",
              "      border-bottom-color: var(--fill-color);\n",
              "    }\n",
              "  }\n",
              "</style>\n",
              "\n",
              "  <script>\n",
              "    async function quickchart(key) {\n",
              "      const quickchartButtonEl =\n",
              "        document.querySelector('#' + key + ' button');\n",
              "      quickchartButtonEl.disabled = true;  // To prevent multiple clicks.\n",
              "      quickchartButtonEl.classList.add('colab-df-spinner');\n",
              "      try {\n",
              "        const charts = await google.colab.kernel.invokeFunction(\n",
              "            'suggestCharts', [key], {});\n",
              "      } catch (error) {\n",
              "        console.error('Error during call to suggestCharts:', error);\n",
              "      }\n",
              "      quickchartButtonEl.classList.remove('colab-df-spinner');\n",
              "      quickchartButtonEl.classList.add('colab-df-quickchart-complete');\n",
              "    }\n",
              "    (() => {\n",
              "      let quickchartButtonEl =\n",
              "        document.querySelector('#df-4221aa20-fb75-4698-b9b6-6361f839278b button');\n",
              "      quickchartButtonEl.style.display =\n",
              "        google.colab.kernel.accessAllowed ? 'block' : 'none';\n",
              "    })();\n",
              "  </script>\n",
              "</div>\n",
              "\n",
              "  <div id=\"id_671802d6-747f-4caa-86e1-fb39e2ba5294\">\n",
              "    <style>\n",
              "      .colab-df-generate {\n",
              "        background-color: #E8F0FE;\n",
              "        border: none;\n",
              "        border-radius: 50%;\n",
              "        cursor: pointer;\n",
              "        display: none;\n",
              "        fill: #1967D2;\n",
              "        height: 32px;\n",
              "        padding: 0 0 0 0;\n",
              "        width: 32px;\n",
              "      }\n",
              "\n",
              "      .colab-df-generate:hover {\n",
              "        background-color: #E2EBFA;\n",
              "        box-shadow: 0px 1px 2px rgba(60, 64, 67, 0.3), 0px 1px 3px 1px rgba(60, 64, 67, 0.15);\n",
              "        fill: #174EA6;\n",
              "      }\n",
              "\n",
              "      [theme=dark] .colab-df-generate {\n",
              "        background-color: #3B4455;\n",
              "        fill: #D2E3FC;\n",
              "      }\n",
              "\n",
              "      [theme=dark] .colab-df-generate:hover {\n",
              "        background-color: #434B5C;\n",
              "        box-shadow: 0px 1px 3px 1px rgba(0, 0, 0, 0.15);\n",
              "        filter: drop-shadow(0px 1px 2px rgba(0, 0, 0, 0.3));\n",
              "        fill: #FFFFFF;\n",
              "      }\n",
              "    </style>\n",
              "    <button class=\"colab-df-generate\" onclick=\"generateWithVariable('phishing_data')\"\n",
              "            title=\"Generate code using this dataframe.\"\n",
              "            style=\"display:none;\">\n",
              "\n",
              "  <svg xmlns=\"http://www.w3.org/2000/svg\" height=\"24px\"viewBox=\"0 0 24 24\"\n",
              "       width=\"24px\">\n",
              "    <path d=\"M7,19H8.4L18.45,9,17,7.55,7,17.6ZM5,21V16.75L18.45,3.32a2,2,0,0,1,2.83,0l1.4,1.43a1.91,1.91,0,0,1,.58,1.4,1.91,1.91,0,0,1-.58,1.4L9.25,21ZM18.45,9,17,7.55Zm-12,3A5.31,5.31,0,0,0,4.9,8.1,5.31,5.31,0,0,0,1,6.5,5.31,5.31,0,0,0,4.9,4.9,5.31,5.31,0,0,0,6.5,1,5.31,5.31,0,0,0,8.1,4.9,5.31,5.31,0,0,0,12,6.5,5.46,5.46,0,0,0,6.5,12Z\"/>\n",
              "  </svg>\n",
              "    </button>\n",
              "    <script>\n",
              "      (() => {\n",
              "      const buttonEl =\n",
              "        document.querySelector('#id_671802d6-747f-4caa-86e1-fb39e2ba5294 button.colab-df-generate');\n",
              "      buttonEl.style.display =\n",
              "        google.colab.kernel.accessAllowed ? 'block' : 'none';\n",
              "\n",
              "      buttonEl.onclick = () => {\n",
              "        google.colab.notebook.generateWithVariable('phishing_data');\n",
              "      }\n",
              "      })();\n",
              "    </script>\n",
              "  </div>\n",
              "\n",
              "    </div>\n",
              "  </div>\n"
            ],
            "application/vnd.google.colaboratory.intrinsic+json": {
              "type": "dataframe",
              "variable_name": "phishing_data"
            }
          },
          "metadata": {},
          "execution_count": 9
        }
      ]
    },
    {
      "cell_type": "markdown",
      "source": [
        "# Identifying the Null values and duplicate values in Dataset"
      ],
      "metadata": {
        "id": "cQToBlpUu3ng"
      }
    },
    {
      "cell_type": "code",
      "source": [
        "def identify_null_values(phishing_data):\n",
        "  \"\"\" Identifying the null columns\"\"\"\n",
        "  try:\n",
        "    null_values = phishing_data.isnull().sum()  #calculated the null values accross each columns\n",
        "    percentage_null_values = sum(null_values)/len(phishing_data) * 100   #calcualted the percentage of null values acccross each columns\n",
        "  except Exception as e:\n",
        "    raise e\n",
        "  finally:\n",
        "    return percentage_null_values , null_values    #return the percentage of null values and columns\n",
        "\n",
        "percentage_null_values = identify_null_values(phishing_data)\n",
        "print(f\" percentage of null values accross each columns : {percentage_null_values}\")\n",
        "print(f\" duplicate values accross each columns : {phishing_data.duplicated().sum()}\")"
      ],
      "metadata": {
        "colab": {
          "base_uri": "https://localhost:8080/"
        },
        "id": "edA7rdjsuxPm",
        "outputId": "1ee1ed1f-fcf1-4d2f-c94d-b13a364c2216"
      },
      "execution_count": 10,
      "outputs": [
        {
          "output_type": "stream",
          "name": "stdout",
          "text": [
            " percentage of null values accross each columns : (0.0, URL_Length                0\n",
            "Has_IP_Address            0\n",
            "HTTPS_Usage               0\n",
            "Domain_Age                0\n",
            "Domain_Expiration         0\n",
            "Number_of_Subdomains      0\n",
            "Alexa_Rank                0\n",
            "Number_of_Dots            0\n",
            "Shortened_URL             0\n",
            "Suspicious_Words          0\n",
            "Customer_ID               0\n",
            "Iframe_Usage              0\n",
            "Mouse_Over_Behavior       0\n",
            "Page_Redirects            0\n",
            "DNS_Record_Validity       0\n",
            "SSL_Certificate_Issuer    0\n",
            "Loading_Time              0\n",
            "Number_of_Links           0\n",
            "Favicon_Match             0\n",
            "Is_Phishing               0\n",
            "Risk_Score                0\n",
            "dtype: int64)\n",
            " duplicate values accross each columns : 0\n"
          ]
        }
      ]
    },
    {
      "cell_type": "markdown",
      "source": [
        "sinc there are no duplicate values and null values in dataset so considering the datasets as cleaned dataset\n"
      ],
      "metadata": {
        "id": "0Xa3reeNyEEE"
      }
    },
    {
      "cell_type": "markdown",
      "source": [
        "creating an class wrapper function for assigned the columns with appropiate to their dataa type"
      ],
      "metadata": {
        "id": "35Cr2eCMy9YY"
      }
    },
    {
      "cell_type": "code",
      "source": [
        "class Column_Segregation:\n",
        "  def __init__(self):\n",
        "    self.integer_columns = []    #storing the integer value data type columns\n",
        "    self.decimal_columns = []    #storing the decimal value data type columns\n",
        "    self.categorical_columns = [] #storing the categorical value data type columns\n",
        "\n",
        "  def store_columns(self):\n",
        "    \"\"\" Storing the columns with appropiate data type \"\"\"\n",
        "    for columns in phishing_data.columns:\n",
        "      if phishing_data.dtypes[columns] == \"int64\" or phishing_data.dtypes[columns] == \"int32\":\n",
        "        self.integer_columns.append(columns)\n",
        "      elif phishing_data.dtypes[columns] == \"float64\":\n",
        "        self.decimal_columns.append(columns)\n",
        "      else:\n",
        "        self.categorical_columns.append(columns)\n",
        "    return self.integer_columns , self.decimal_columns , self.categorical_columns\n",
        "\n",
        "\n",
        "#calling the above class wrpaer functions\n",
        "column_segregation = Column_Segregation()\n",
        "integer_columns , decimal_columns , categorical_columns = column_segregation.store_columns()\n",
        "print(f\" integer columns : {integer_columns}\")\n",
        "print(f\" decimal columns : {decimal_columns}\")\n",
        "print(f\" categorical columns : {categorical_columns}\")"
      ],
      "metadata": {
        "colab": {
          "base_uri": "https://localhost:8080/"
        },
        "id": "DqQG81JmxULy",
        "outputId": "65baaf5d-af8d-4bbc-980c-b8cf7efac3b0"
      },
      "execution_count": 11,
      "outputs": [
        {
          "output_type": "stream",
          "name": "stdout",
          "text": [
            " integer columns : ['URL_Length', 'Has_IP_Address', 'HTTPS_Usage', 'Domain_Age', 'Domain_Expiration', 'Number_of_Subdomains', 'Alexa_Rank', 'Number_of_Dots', 'Shortened_URL', 'Suspicious_Words', 'Customer_ID', 'Iframe_Usage', 'Mouse_Over_Behavior', 'Page_Redirects', 'DNS_Record_Validity', 'SSL_Certificate_Issuer', 'Number_of_Links', 'Favicon_Match', 'Is_Phishing']\n",
            " decimal columns : ['Loading_Time', 'Risk_Score']\n",
            " categorical columns : []\n"
          ]
        }
      ]
    },
    {
      "cell_type": "markdown",
      "source": [
        "changing the data type of risk score columns into integer columns"
      ],
      "metadata": {
        "id": "nGCyWZ8ZzuOF"
      }
    },
    {
      "cell_type": "code",
      "source": [
        "phishing_data['Risk_Score'] = phishing_data['Risk_Score'].astype('int64')\n",
        "phishing_data.dtypes"
      ],
      "metadata": {
        "colab": {
          "base_uri": "https://localhost:8080/",
          "height": 743
        },
        "id": "eIX9ZzyTx-hm",
        "outputId": "fa384b47-77e4-44cf-dba4-0bc86f5464a6"
      },
      "execution_count": 12,
      "outputs": [
        {
          "output_type": "execute_result",
          "data": {
            "text/plain": [
              "URL_Length                  int32\n",
              "Has_IP_Address              int32\n",
              "HTTPS_Usage                 int32\n",
              "Domain_Age                  int32\n",
              "Domain_Expiration           int32\n",
              "Number_of_Subdomains        int32\n",
              "Alexa_Rank                  int32\n",
              "Number_of_Dots              int32\n",
              "Shortened_URL               int32\n",
              "Suspicious_Words            int32\n",
              "Customer_ID                 int32\n",
              "Iframe_Usage                int32\n",
              "Mouse_Over_Behavior         int32\n",
              "Page_Redirects              int32\n",
              "DNS_Record_Validity         int32\n",
              "SSL_Certificate_Issuer      int32\n",
              "Loading_Time              float64\n",
              "Number_of_Links             int32\n",
              "Favicon_Match               int32\n",
              "Is_Phishing                 int32\n",
              "Risk_Score                  int64\n",
              "dtype: object"
            ],
            "text/html": [
              "<div>\n",
              "<style scoped>\n",
              "    .dataframe tbody tr th:only-of-type {\n",
              "        vertical-align: middle;\n",
              "    }\n",
              "\n",
              "    .dataframe tbody tr th {\n",
              "        vertical-align: top;\n",
              "    }\n",
              "\n",
              "    .dataframe thead th {\n",
              "        text-align: right;\n",
              "    }\n",
              "</style>\n",
              "<table border=\"1\" class=\"dataframe\">\n",
              "  <thead>\n",
              "    <tr style=\"text-align: right;\">\n",
              "      <th></th>\n",
              "      <th>0</th>\n",
              "    </tr>\n",
              "  </thead>\n",
              "  <tbody>\n",
              "    <tr>\n",
              "      <th>URL_Length</th>\n",
              "      <td>int32</td>\n",
              "    </tr>\n",
              "    <tr>\n",
              "      <th>Has_IP_Address</th>\n",
              "      <td>int32</td>\n",
              "    </tr>\n",
              "    <tr>\n",
              "      <th>HTTPS_Usage</th>\n",
              "      <td>int32</td>\n",
              "    </tr>\n",
              "    <tr>\n",
              "      <th>Domain_Age</th>\n",
              "      <td>int32</td>\n",
              "    </tr>\n",
              "    <tr>\n",
              "      <th>Domain_Expiration</th>\n",
              "      <td>int32</td>\n",
              "    </tr>\n",
              "    <tr>\n",
              "      <th>Number_of_Subdomains</th>\n",
              "      <td>int32</td>\n",
              "    </tr>\n",
              "    <tr>\n",
              "      <th>Alexa_Rank</th>\n",
              "      <td>int32</td>\n",
              "    </tr>\n",
              "    <tr>\n",
              "      <th>Number_of_Dots</th>\n",
              "      <td>int32</td>\n",
              "    </tr>\n",
              "    <tr>\n",
              "      <th>Shortened_URL</th>\n",
              "      <td>int32</td>\n",
              "    </tr>\n",
              "    <tr>\n",
              "      <th>Suspicious_Words</th>\n",
              "      <td>int32</td>\n",
              "    </tr>\n",
              "    <tr>\n",
              "      <th>Customer_ID</th>\n",
              "      <td>int32</td>\n",
              "    </tr>\n",
              "    <tr>\n",
              "      <th>Iframe_Usage</th>\n",
              "      <td>int32</td>\n",
              "    </tr>\n",
              "    <tr>\n",
              "      <th>Mouse_Over_Behavior</th>\n",
              "      <td>int32</td>\n",
              "    </tr>\n",
              "    <tr>\n",
              "      <th>Page_Redirects</th>\n",
              "      <td>int32</td>\n",
              "    </tr>\n",
              "    <tr>\n",
              "      <th>DNS_Record_Validity</th>\n",
              "      <td>int32</td>\n",
              "    </tr>\n",
              "    <tr>\n",
              "      <th>SSL_Certificate_Issuer</th>\n",
              "      <td>int32</td>\n",
              "    </tr>\n",
              "    <tr>\n",
              "      <th>Loading_Time</th>\n",
              "      <td>float64</td>\n",
              "    </tr>\n",
              "    <tr>\n",
              "      <th>Number_of_Links</th>\n",
              "      <td>int32</td>\n",
              "    </tr>\n",
              "    <tr>\n",
              "      <th>Favicon_Match</th>\n",
              "      <td>int32</td>\n",
              "    </tr>\n",
              "    <tr>\n",
              "      <th>Is_Phishing</th>\n",
              "      <td>int32</td>\n",
              "    </tr>\n",
              "    <tr>\n",
              "      <th>Risk_Score</th>\n",
              "      <td>int64</td>\n",
              "    </tr>\n",
              "  </tbody>\n",
              "</table>\n",
              "</div><br><label><b>dtype:</b> object</label>"
            ]
          },
          "metadata": {},
          "execution_count": 12
        }
      ]
    },
    {
      "cell_type": "code",
      "source": [
        "#saving to dataframe into colab ennvrionment\n",
        "\"\"\" Saving the File \"\"\"\n",
        "file_location = \"/content/phishing_data.csv\"\n",
        "\n",
        "#creating an custom exception handling for saving the file\n",
        "try:\n",
        "  phishing_data.to_csv(file_location,index=False)\n",
        "  print(f\" File saved successfull in {file_location}\")\n",
        "except Exception as e:\n",
        "  raise e\n",
        "except FileNotFoundError as e:\n",
        "  raise e"
      ],
      "metadata": {
        "colab": {
          "base_uri": "https://localhost:8080/"
        },
        "id": "AgqWKoWtcoG0",
        "outputId": "5a8d9153-252c-404e-a7ec-d8e77e422d90"
      },
      "execution_count": 14,
      "outputs": [
        {
          "output_type": "stream",
          "name": "stdout",
          "text": [
            " File saved successfull in /content/phishing_data.csv\n"
          ]
        }
      ]
    },
    {
      "cell_type": "code",
      "source": [
        "#opening the new file which is store in colab enviroment\n",
        "\"\"\" Opening file from colab environment \"\"\"\n",
        "with open(file_location,'r') as file_viewer:\n",
        "  phishing_data_= pd.read_csv(file_viewer)   #opening the file in read mode\n",
        "  print(phishing_data_.head(5))   #top 5 rows"
      ],
      "metadata": {
        "colab": {
          "base_uri": "https://localhost:8080/"
        },
        "id": "QEVRMeGhdRTb",
        "outputId": "e40e281c-d92b-4185-d93b-e6df1cd5f234"
      },
      "execution_count": 17,
      "outputs": [
        {
          "output_type": "stream",
          "name": "stdout",
          "text": [
            "   URL_Length  Has_IP_Address  HTTPS_Usage  Domain_Age  Domain_Expiration  \\\n",
            "0         112               0            0           1                256   \n",
            "1         102               0            1           9               1474   \n",
            "2          24               0            0          18                721   \n",
            "3         116               0            1          14               2001   \n",
            "4          81               0            1           6               2452   \n",
            "\n",
            "   Number_of_Subdomains  Alexa_Rank  Number_of_Dots  Shortened_URL  \\\n",
            "0                     1      558200               4              1   \n",
            "1                     1      612421               1              1   \n",
            "2                     1        6206               3              0   \n",
            "3                     0      206480               1              1   \n",
            "4                     1      212706               4              0   \n",
            "\n",
            "   Suspicious_Words  ...  Iframe_Usage  Mouse_Over_Behavior  Page_Redirects  \\\n",
            "0                 0  ...             1                    1               3   \n",
            "1                 1  ...             0                    1               3   \n",
            "2                 1  ...             1                    1               1   \n",
            "3                 1  ...             0                    1               3   \n",
            "4                 1  ...             0                    1               4   \n",
            "\n",
            "   DNS_Record_Validity  SSL_Certificate_Issuer  Loading_Time  Number_of_Links  \\\n",
            "0                    1                       0          4.19               22   \n",
            "1                    0                       1          2.71               52   \n",
            "2                    1                       1          8.24               73   \n",
            "3                    1                       1          8.77               12   \n",
            "4                    1                       1          9.55               76   \n",
            "\n",
            "   Favicon_Match  Is_Phishing  Risk_Score  \n",
            "0              0            0          24  \n",
            "1              1            0           9  \n",
            "2              1            1          81  \n",
            "3              1            0           8  \n",
            "4              0            0          46  \n",
            "\n",
            "[5 rows x 21 columns]\n"
          ]
        }
      ]
    },
    {
      "cell_type": "markdown",
      "source": [
        "# Identifying the Factors affecting Phishing Probability and Non Phishing Probability"
      ],
      "metadata": {
        "id": "t4t49sUGcmoE"
      }
    },
    {
      "cell_type": "code",
      "source": [
        "#distirbution of current phishing probability and non phishing probability\n",
        "sns.distplot(phishing_data['Is_Phishing'])\n",
        "plt.title(\"Distribution of Phishing Probability\")"
      ],
      "metadata": {
        "colab": {
          "base_uri": "https://localhost:8080/",
          "height": 489
        },
        "id": "g3SmnXir-TAW",
        "outputId": "b53ee4b4-1bc4-4122-c5b8-3b180eba51d0"
      },
      "execution_count": 122,
      "outputs": [
        {
          "output_type": "execute_result",
          "data": {
            "text/plain": [
              "Text(0.5, 1.0, 'Distribution of Phishing Probability')"
            ]
          },
          "metadata": {},
          "execution_count": 122
        },
        {
          "output_type": "display_data",
          "data": {
            "text/plain": [
              "<Figure size 640x480 with 1 Axes>"
            ],
            "image/png": "[encoded data removed]"
          },
          "metadata": {}
        }
      ]
    },
    {
      "cell_type": "markdown",
      "source": [
        "1. Current phishing detection ratio based on\n",
        " url length"
      ],
      "metadata": {
        "id": "pH573RELeASP"
      }
    },
    {
      "cell_type": "code",
      "source": [
        "#counting the phishing detection sytem based on url lenth\n",
        "count_phishing = phishing_data.groupby('Is_Phishing').count().reset_index()\n",
        "\n",
        "#fetching the url lenth aand is phishing\n",
        "count_phishing_url_length = phishing_data[['URL_Length','Is_Phishing']]\n",
        "print(count_phishing_url_length)\n",
        "\n",
        "#visualizing through pie chart\n",
        "fig = sns.barplot(x='Is_Phishing',y='URL_Length',data=count_phishing_url_length,palette=\"magma\")\n",
        "plt.title(\"Phishing detection rate based on URL length\")\n",
        "for bars in fig.containers:\n",
        "  fig.bar_label(bars)\n"
      ],
      "metadata": {
        "colab": {
          "base_uri": "https://localhost:8080/",
          "height": 715
        },
        "id": "lrT80jVyebMy",
        "outputId": "d673677a-524e-4e8b-9e3c-7a2078d0bada"
      },
      "execution_count": 33,
      "outputs": [
        {
          "output_type": "stream",
          "name": "stdout",
          "text": [
            "       URL_Length  Is_Phishing\n",
            "0             112            0\n",
            "1             102            0\n",
            "2              24            1\n",
            "3             116            0\n",
            "4              81            0\n",
            "...           ...          ...\n",
            "14995          82            0\n",
            "14996         109            1\n",
            "14997          38            0\n",
            "14998          67            0\n",
            "14999          57            0\n",
            "\n",
            "[15000 rows x 2 columns]\n"
          ]
        },
        {
          "output_type": "display_data",
          "data": {
            "text/plain": [
              "<Figure size 640x480 with 1 Axes>"
            ],
            "image/png": "[encoded data removed]"
          },
          "metadata": {}
        }
      ]
    },
    {
      "cell_type": "markdown",
      "source": [
        "conducting an T test stats to check the signifance of url lenth on the basis of phishing and non phishing"
      ],
      "metadata": {
        "id": "wiEKjcsKhjJ8"
      }
    },
    {
      "cell_type": "code",
      "source": [
        "t_stats , p_value = stats.ttest_ind(phishing_data['URL_Length'],phishing_data['Is_Phishing'])\n",
        "if p_value < 0.05:\n",
        "  print(\"Reject the null hypothesis ,  significant distribution of URL length \")\n",
        "else:\n",
        "  print(\"Accept the null hypothesis , NO significant distribution of URL length\")"
      ],
      "metadata": {
        "colab": {
          "base_uri": "https://localhost:8080/"
        },
        "id": "nrpbEmgneqTP",
        "outputId": "bc9d3b51-6f6c-4fe0-ff5c-77e3b12d2674"
      },
      "execution_count": 113,
      "outputs": [
        {
          "output_type": "stream",
          "name": "stdout",
          "text": [
            "Reject the null hypothesis ,  significant distribution of URL length \n"
          ]
        }
      ]
    },
    {
      "cell_type": "code",
      "source": [
        "#distribution of URL Length\n",
        "fig = plt.figure(figsize=(10,6))\n",
        "sns.distplot(phishing_data['URL_Length'])\n",
        "plt.title(\"Distribution of URL length\")"
      ],
      "metadata": {
        "colab": {
          "base_uri": "https://localhost:8080/",
          "height": 581
        },
        "id": "yPTsQz7knduh",
        "outputId": "c0ac64c9-5b8e-46ec-a5f0-1972ff60a10a"
      },
      "execution_count": 66,
      "outputs": [
        {
          "output_type": "execute_result",
          "data": {
            "text/plain": [
              "Text(0.5, 1.0, 'Distribution of URL length')"
            ]
          },
          "metadata": {},
          "execution_count": 66
        },
        {
          "output_type": "display_data",
          "data": {
            "text/plain": [
              "<Figure size 1000x600 with 1 Axes>"
            ],
            "image/png": "[encoded data removed]"
          },
          "metadata": {}
        }
      ]
    },
    {
      "cell_type": "markdown",
      "source": [
        "let see the impact by categorizing the url length into categories\n",
        "*  Short: URL length < 50\n",
        "*  Medium:  URL length ≤ 100\n",
        "*  Long: URL length > 100"
      ],
      "metadata": {
        "id": "Vlgo3u0yitgj"
      }
    },
    {
      "cell_type": "code",
      "source": [
        "try:\n",
        "  phishing_data['URL_Length_Category'] = phishing_data.apply(\n",
        "      lambda x: 'Short' if x['URL_Length'] < 50 else ('Medium' if x['URL_Length'] <= 100 else 'Long'),axis=1\n",
        "  )\n",
        "  if not phishing_data['URL_Length_Category'].empty:\n",
        "    print(\" URL length Category column created\")\n",
        "  else:\n",
        "    print(\"URL Length Category column not created\")\n",
        "except Exception as e:\n",
        "  raise e"
      ],
      "metadata": {
        "colab": {
          "base_uri": "https://localhost:8080/"
        },
        "id": "0IxWvK1ah4sG",
        "outputId": "75129a67-d09e-4141-ded2-bd07fe05a1fa"
      },
      "execution_count": 39,
      "outputs": [
        {
          "output_type": "stream",
          "name": "stdout",
          "text": [
            " URL length Category column created\n"
          ]
        }
      ]
    },
    {
      "cell_type": "markdown",
      "source": [
        "changing the URL length Category as category data tyep"
      ],
      "metadata": {
        "id": "FU2nCcHMkdYe"
      }
    },
    {
      "cell_type": "code",
      "source": [
        "phishing_data['URL_Length_Category'] = phishing_data['URL_Length_Category'].astype('category')\n",
        "phishing_data.dtypes"
      ],
      "metadata": {
        "colab": {
          "base_uri": "https://localhost:8080/",
          "height": 774
        },
        "id": "EhuPmjYikjpn",
        "outputId": "d201d952-750e-4ef3-b7b1-943e86ab7940"
      },
      "execution_count": 41,
      "outputs": [
        {
          "output_type": "execute_result",
          "data": {
            "text/plain": [
              "URL_Length                   int32\n",
              "Has_IP_Address               int32\n",
              "HTTPS_Usage                  int32\n",
              "Domain_Age                   int32\n",
              "Domain_Expiration            int32\n",
              "Number_of_Subdomains         int32\n",
              "Alexa_Rank                   int32\n",
              "Number_of_Dots               int32\n",
              "Shortened_URL                int32\n",
              "Suspicious_Words             int32\n",
              "Customer_ID                  int32\n",
              "Iframe_Usage                 int32\n",
              "Mouse_Over_Behavior          int32\n",
              "Page_Redirects               int32\n",
              "DNS_Record_Validity          int32\n",
              "SSL_Certificate_Issuer       int32\n",
              "Loading_Time               float64\n",
              "Number_of_Links              int32\n",
              "Favicon_Match                int32\n",
              "Is_Phishing                  int32\n",
              "Risk_Score                   int64\n",
              "URL_Length_Category       category\n",
              "dtype: object"
            ],
            "text/html": [
              "<div>\n",
              "<style scoped>\n",
              "    .dataframe tbody tr th:only-of-type {\n",
              "        vertical-align: middle;\n",
              "    }\n",
              "\n",
              "    .dataframe tbody tr th {\n",
              "        vertical-align: top;\n",
              "    }\n",
              "\n",
              "    .dataframe thead th {\n",
              "        text-align: right;\n",
              "    }\n",
              "</style>\n",
              "<table border=\"1\" class=\"dataframe\">\n",
              "  <thead>\n",
              "    <tr style=\"text-align: right;\">\n",
              "      <th></th>\n",
              "      <th>0</th>\n",
              "    </tr>\n",
              "  </thead>\n",
              "  <tbody>\n",
              "    <tr>\n",
              "      <th>URL_Length</th>\n",
              "      <td>int32</td>\n",
              "    </tr>\n",
              "    <tr>\n",
              "      <th>Has_IP_Address</th>\n",
              "      <td>int32</td>\n",
              "    </tr>\n",
              "    <tr>\n",
              "      <th>HTTPS_Usage</th>\n",
              "      <td>int32</td>\n",
              "    </tr>\n",
              "    <tr>\n",
              "      <th>Domain_Age</th>\n",
              "      <td>int32</td>\n",
              "    </tr>\n",
              "    <tr>\n",
              "      <th>Domain_Expiration</th>\n",
              "      <td>int32</td>\n",
              "    </tr>\n",
              "    <tr>\n",
              "      <th>Number_of_Subdomains</th>\n",
              "      <td>int32</td>\n",
              "    </tr>\n",
              "    <tr>\n",
              "      <th>Alexa_Rank</th>\n",
              "      <td>int32</td>\n",
              "    </tr>\n",
              "    <tr>\n",
              "      <th>Number_of_Dots</th>\n",
              "      <td>int32</td>\n",
              "    </tr>\n",
              "    <tr>\n",
              "      <th>Shortened_URL</th>\n",
              "      <td>int32</td>\n",
              "    </tr>\n",
              "    <tr>\n",
              "      <th>Suspicious_Words</th>\n",
              "      <td>int32</td>\n",
              "    </tr>\n",
              "    <tr>\n",
              "      <th>Customer_ID</th>\n",
              "      <td>int32</td>\n",
              "    </tr>\n",
              "    <tr>\n",
              "      <th>Iframe_Usage</th>\n",
              "      <td>int32</td>\n",
              "    </tr>\n",
              "    <tr>\n",
              "      <th>Mouse_Over_Behavior</th>\n",
              "      <td>int32</td>\n",
              "    </tr>\n",
              "    <tr>\n",
              "      <th>Page_Redirects</th>\n",
              "      <td>int32</td>\n",
              "    </tr>\n",
              "    <tr>\n",
              "      <th>DNS_Record_Validity</th>\n",
              "      <td>int32</td>\n",
              "    </tr>\n",
              "    <tr>\n",
              "      <th>SSL_Certificate_Issuer</th>\n",
              "      <td>int32</td>\n",
              "    </tr>\n",
              "    <tr>\n",
              "      <th>Loading_Time</th>\n",
              "      <td>float64</td>\n",
              "    </tr>\n",
              "    <tr>\n",
              "      <th>Number_of_Links</th>\n",
              "      <td>int32</td>\n",
              "    </tr>\n",
              "    <tr>\n",
              "      <th>Favicon_Match</th>\n",
              "      <td>int32</td>\n",
              "    </tr>\n",
              "    <tr>\n",
              "      <th>Is_Phishing</th>\n",
              "      <td>int32</td>\n",
              "    </tr>\n",
              "    <tr>\n",
              "      <th>Risk_Score</th>\n",
              "      <td>int64</td>\n",
              "    </tr>\n",
              "    <tr>\n",
              "      <th>URL_Length_Category</th>\n",
              "      <td>category</td>\n",
              "    </tr>\n",
              "  </tbody>\n",
              "</table>\n",
              "</div><br><label><b>dtype:</b> object</label>"
            ]
          },
          "metadata": {},
          "execution_count": 41
        }
      ]
    },
    {
      "cell_type": "markdown",
      "source": [
        "now let see how the url length category affect the phishing detection"
      ],
      "metadata": {
        "id": "HrzlofbxkXyO"
      }
    },
    {
      "cell_type": "code",
      "source": [
        "#calculating the count of phishing and non phishing based On url category\n",
        "url_category_count_phishing = phishing_data.groupby('URL_Length_Category').agg({'Is_Phishing':'count'}).reset_index()\n",
        "\n",
        "print(url_category_count_phishing)\n",
        "\n",
        "#visualizing the result throug pie chart\n",
        "plt.figure(figsize=(10,6))\n",
        "plt.pie(\n",
        "    url_category_count_phishing['Is_Phishing'],\n",
        "    labels=url_category_count_phishing['URL_Length_Category'],\n",
        "    autopct='%1.1f%%',explode=[0.1,0.0,0.0])\n",
        "\n",
        "plt.title(\"Phishing detection rate based on URL length category distribution\")\n",
        "plt.show()\n",
        "plt.legend()"
      ],
      "metadata": {
        "colab": {
          "base_uri": "https://localhost:8080/",
          "height": 1000
        },
        "id": "ZTkkXhgrkWuc",
        "outputId": "657e51b7-1ab5-4360-dc3c-417188594b19"
      },
      "execution_count": 135,
      "outputs": [
        {
          "output_type": "stream",
          "name": "stdout",
          "text": [
            "  URL_Length_Category  Is_Phishing\n",
            "0                Long         5183\n",
            "1              Medium         5510\n",
            "2               Short         4307\n"
          ]
        },
        {
          "output_type": "display_data",
          "data": {
            "text/plain": [
              "<Figure size 1000x600 with 1 Axes>"
            ],
            "image/png": "[encoded data removed]"
          },
          "metadata": {}
        },
        {
          "output_type": "execute_result",
          "data": {
            "text/plain": [
              "<matplotlib.legend.Legend at 0x7da9076f1610>"
            ]
          },
          "metadata": {},
          "execution_count": 135
        },
        {
          "output_type": "display_data",
          "data": {
            "text/plain": [
              "<Figure size 640x480 with 1 Axes>"
            ],
            "image/png": "[encoded data removed]"
          },
          "metadata": {}
        }
      ]
    },
    {
      "cell_type": "code",
      "source": [
        "URL_category_count_phishing = phishing_data.groupby('URL_Length_Category')['Is_Phishing'].value_counts(normalize=True).unstack() *100\n",
        "URL_category_count_phishing = URL_category_count_phishing.reset_index()\n",
        "print(URL_category_count_phishing)"
      ],
      "metadata": {
        "colab": {
          "base_uri": "https://localhost:8080/"
        },
        "id": "XDZSGT1YkTh8",
        "outputId": "29f2c233-bfea-46c7-afe6-330cf707326e"
      },
      "execution_count": 105,
      "outputs": [
        {
          "output_type": "stream",
          "name": "stdout",
          "text": [
            "Is_Phishing URL_Length_Category          0          1\n",
            "0                          Long  49.700945  50.299055\n",
            "1                        Medium  50.562613  49.437387\n",
            "2                         Short  50.475969  49.524031\n"
          ]
        }
      ]
    },
    {
      "cell_type": "markdown",
      "source": [
        "conducting the Two tail sample testing to check the group of url category based on phishing"
      ],
      "metadata": {
        "id": "0ZcayAyZn1dW"
      }
    },
    {
      "cell_type": "code",
      "source": [
        "#getting the Group\n",
        "group_1 = phishing_data[phishing_data['URL_Length_Category'] == 'Short']['Is_Phishing']\n",
        "group_2 = phishing_data[phishing_data['URL_Length_Category'] == 'Medium']['Is_Phishing']\n",
        "group_3 = phishing_data[phishing_data['URL_Length_Category'] == 'Long']['Is_Phishing']\n",
        "\n",
        "\"\"\"Conducting the Two tail sample testing\"\"\"\n",
        "t_stats_1 , p_value_1 = stats.ttest_ind(group_1,group_2)   #group 1 to group 2\n",
        "t_stats_2 , p_value_2 = stats.ttest_ind(group_2,group_3)   #group 2 to group 3\n",
        "t_stats_3 , p_value_3 = stats.ttest_ind(group_1,group_3)   #group 1 to group 3\n",
        "\n",
        "\"\"\" Statistical value result  \"\"\"\n",
        "if p_value_1  < 0.05:\n",
        "  print(\"Reject the null hypothesis ,  significant distribution of URL length for group 1 and group 2 \")\n",
        "else:\n",
        "   print(\"Accept the null hypothesis , no significant distribution of URL length for group 1 and group 2\")\n",
        "\n",
        "if p_value_2 < 0.05:\n",
        "  print(\"Reject the null hypothesis ,  significant distribution of URL length for group 2 and group 3 \")\n",
        "else:\n",
        "   print(\"Accept the null hypothesis , no significant distribution of URL length for group 2 and group  3\")\n",
        "\n",
        "if p_value_3 < 0.05:\n",
        "  print(\"Reject the null hypothesis , significant distribution of URL length for group 1 and group 3 \")\n",
        "else:\n",
        "   print(\"Accept the null hypothesis , no significant distribution of URL length for group 1 and group  3\")"
      ],
      "metadata": {
        "colab": {
          "base_uri": "https://localhost:8080/"
        },
        "id": "QGIht5cXmWs-",
        "outputId": "0a606cba-6d74-48cd-f42d-9652d2557a36"
      },
      "execution_count": 108,
      "outputs": [
        {
          "output_type": "stream",
          "name": "stdout",
          "text": [
            "Accept the null hypothesis , no significant distribution of URL length for group 1 and group 2\n",
            "Accept the null hypothesis , no significant distribution of URL length for group 2 and group  3\n",
            "Accept the null hypothesis , no significant distribution of URL length for group 1 and group  3\n"
          ]
        }
      ]
    },
    {
      "cell_type": "markdown",
      "source": [
        "since Group 1 and group 2 and Group 3 are differ from each other s we will accept the hypothesis"
      ],
      "metadata": {
        "id": "CJ8KOHCkpjHn"
      }
    },
    {
      "cell_type": "markdown",
      "source": [
        "it might be consider that based on URL category we can detect the Phishing for future perspective"
      ],
      "metadata": {
        "id": "XaHz-pBCqR64"
      }
    },
    {
      "cell_type": "markdown",
      "source": [
        "2. Effect of IP Address on Phishing detection System"
      ],
      "metadata": {
        "id": "TPlrWmTJqyQx"
      }
    },
    {
      "cell_type": "code",
      "source": [
        "#calculating the Count of Phishing and Non phising based on Ip address\n",
        "ip_address_phishing_count = phishing_data.groupby([\"Has_IP_Address\"]).agg({\"Is_Phishing\":\"count\"}).reset_index()\n",
        "print(ip_address_phishing_count)\n",
        "\n",
        "#plotting the pie plot\n",
        "plt.pie(\n",
        "    ip_address_phishing_count['Is_Phishing'],\n",
        "    labels=ip_address_phishing_count['Has_IP_Address'],\n",
        "    autopct='%1.1f%%')\n",
        "plt.title(\"Current Phishing Distribution for having IP address\")\n",
        "plt.legend()"
      ],
      "metadata": {
        "colab": {
          "base_uri": "https://localhost:8080/",
          "height": 497
        },
        "id": "NArY2sgaoGzA",
        "outputId": "92e807b4-6f3f-4c76-bbee-abe6f6039dab"
      },
      "execution_count": 134,
      "outputs": [
        {
          "output_type": "stream",
          "name": "stdout",
          "text": [
            "   Has_IP_Address  Is_Phishing\n",
            "0               0         7462\n",
            "1               1         7538\n"
          ]
        },
        {
          "output_type": "execute_result",
          "data": {
            "text/plain": [
              "<matplotlib.legend.Legend at 0x7da9078ff190>"
            ]
          },
          "metadata": {},
          "execution_count": 134
        },
        {
          "output_type": "display_data",
          "data": {
            "text/plain": [
              "<Figure size 640x480 with 1 Axes>"
            ],
            "image/png": "[encoded data removed]"
          },
          "metadata": {}
        }
      ]
    },
    {
      "cell_type": "markdown",
      "source": [
        "since the phishing probability for Website Having IP address is 50.3% and Non phishing probabilty for Website Having IP Address is 49.7 % so it might consider that after prediction the IP Address would be detect the more on phishing Probability rather than Non phishing probability"
      ],
      "metadata": {
        "id": "Olu9qKKbvAWn"
      }
    },
    {
      "cell_type": "markdown",
      "source": [
        "checking the Correlation between the IP Address and Phishing Probability\n",
        "\n",
        "since IP Address has two labels\n",
        "* 0 represent  Website url having IP Address\n",
        "* 1 represent  Wesite Url having No Ip Address\n",
        "\n",
        "Phishing Probability has Two labels\n",
        "* 0 represent Phishing Probaility\n",
        "* 1 represent Non phishing Probability\n",
        "\n",
        "Since both the labels does not showing any distinction between them\n",
        "Identfying the Relationship through Chi square testing"
      ],
      "metadata": {
        "id": "CPg4CJHXwQ3n"
      }
    },
    {
      "cell_type": "code",
      "source": [
        "#let see hwo each phishing probability detect on the basis for ip address\n",
        "phishing_detection_ip = phishing_data.groupby('Has_IP_Address')['Is_Phishing'].value_counts(normalize=True).unstack() * 100\n",
        "print(phishing_detection_ip)"
      ],
      "metadata": {
        "colab": {
          "base_uri": "https://localhost:8080/"
        },
        "id": "x9Zsmn5j0MCO",
        "outputId": "7b0d344e-0df6-456f-da4e-3f5617122821"
      },
      "execution_count": 88,
      "outputs": [
        {
          "output_type": "stream",
          "name": "stdout",
          "text": [
            "Is_Phishing             0          1\n",
            "Has_IP_Address                      \n",
            "0               50.455642  49.544358\n",
            "1               50.026532  49.973468\n"
          ]
        }
      ]
    },
    {
      "cell_type": "markdown",
      "source": [
        "checking the Chi square testing to check the significance"
      ],
      "metadata": {
        "id": "r1wT6YVC4zMO"
      }
    },
    {
      "cell_type": "code",
      "source": [
        "def perform_chi_square_testing(phishing_detection_ip):\n",
        "  \"\"\" Performing the Chi square testing \"\"\"\n",
        "  try:\n",
        "    chi2_stats , p_value , dof , expected = stats.chi2_contingency(phishing_detection_ip)\n",
        "    threshold_value = 0.05\n",
        "    if p_value < threshold_value:\n",
        "      print(\" There is significance relationship between IP and phishing Probability\")\n",
        "    else:\n",
        "      print(\"There is no significance relationship between IP and Phishing Probaility\")\n",
        "  except Exception as e:\n",
        "    raise e\n",
        "\n",
        "perform_chi_square_testing(phishing_detection_ip)"
      ],
      "metadata": {
        "colab": {
          "base_uri": "https://localhost:8080/"
        },
        "id": "IXBmnfkZ2t1-",
        "outputId": "a0bdeb1f-d985-46f3-cd36-4fd8276773c0"
      },
      "execution_count": 110,
      "outputs": [
        {
          "output_type": "stream",
          "name": "stdout",
          "text": [
            "There is no significance relationship between IP and Phishing Probaility\n"
          ]
        }
      ]
    },
    {
      "cell_type": "markdown",
      "source": [
        "3. How phishing and non Phishing probability detect on the basis of http usage"
      ],
      "metadata": {
        "id": "cFdWxgs5_F77"
      }
    },
    {
      "cell_type": "code",
      "source": [
        "phishing_detection_http = phishing_data.groupby('HTTPS_Usage')['Is_Phishing'].value_counts(normalize=True).unstack() * 100\n",
        "print(phishing_detection_http)"
      ],
      "metadata": {
        "colab": {
          "base_uri": "https://localhost:8080/"
        },
        "id": "GLL1AmXD9uSn",
        "outputId": "48d7dfd6-4267-4949-dcc1-5809b2485f81"
      },
      "execution_count": 125,
      "outputs": [
        {
          "output_type": "stream",
          "name": "stdout",
          "text": [
            "Is_Phishing          0          1\n",
            "HTTPS_Usage                      \n",
            "0            50.920326  49.079674\n",
            "1            49.540168  50.459832\n"
          ]
        }
      ]
    },
    {
      "cell_type": "code",
      "source": [
        "#performing chi square testing\n",
        "def perform_chi_square_testing(phishing_detection_http):\n",
        "  \"\"\" Performing the Chi square testing \"\"\"\n",
        "  try:\n",
        "    chi2_stats , p_value , dof , expected = stats.chi2_contingency(phishing_detection_http)\n",
        "    threshold_value = 0.05\n",
        "    if p_value < threshold_value:\n",
        "      print(\" There is significance relationship between http and phishing Probability\")\n",
        "    else:\n",
        "      print(\"There is no significance relationship between http and Phishing Probaility\")\n",
        "  except Exception as e:\n",
        "    raise e\n",
        "\n",
        "perform_chi_square_testing(phishing_detection_http)"
      ],
      "metadata": {
        "colab": {
          "base_uri": "https://localhost:8080/"
        },
        "id": "1qpFtv4U_Q6_",
        "outputId": "991ea452-4ff4-4f58-85d9-841074986b9a"
      },
      "execution_count": 140,
      "outputs": [
        {
          "output_type": "stream",
          "name": "stdout",
          "text": [
            "There is no significance relationship between http and Phishing Probaility\n"
          ]
        }
      ]
    },
    {
      "cell_type": "code",
      "source": [
        "http_address_phishing_count = phishing_data.groupby([\"HTTPS_Usage\"]).agg({\"Is_Phishing\":\"count\"}).reset_index()\n",
        "print(http_address_phishing_count)\n",
        "\n",
        "#plotting the pie plot\n",
        "plt.pie(\n",
        "    http_address_phishing_count['Is_Phishing'],\n",
        "    labels=http_address_phishing_count['HTTPS_Usage'],\n",
        "    autopct='%1.1f%%',\n",
        "    colors=['green','orange'],\n",
        ")\n",
        "plt.title(\"Often distribution of phishing based on HTTP Usage\")\n",
        "plt.legend()"
      ],
      "metadata": {
        "colab": {
          "base_uri": "https://localhost:8080/",
          "height": 497
        },
        "id": "UTzT-OEO_n1H",
        "outputId": "e75daa47-1cbe-4e09-b7b0-19de4a771f40"
      },
      "execution_count": 139,
      "outputs": [
        {
          "output_type": "stream",
          "name": "stdout",
          "text": [
            "   HTTPS_Usage  Is_Phishing\n",
            "0            0         7606\n",
            "1            1         7394\n"
          ]
        },
        {
          "output_type": "execute_result",
          "data": {
            "text/plain": [
              "<matplotlib.legend.Legend at 0x7da9072fc610>"
            ]
          },
          "metadata": {},
          "execution_count": 139
        },
        {
          "output_type": "display_data",
          "data": {
            "text/plain": [
              "<Figure size 640x480 with 1 Axes>"
            ],
            "image/png": "[encoded data removed]"
          },
          "metadata": {}
        }
      ]
    },
    {
      "cell_type": "markdown",
      "source": [
        "how often distribution of Domain age differ from phishing probability"
      ],
      "metadata": {
        "id": "H0yydRGuBgaE"
      }
    },
    {
      "cell_type": "code",
      "source": [
        "domain_age_phishing = phishing_data.groupby(\"Domain_Age\")[\"Is_Phishing\"].value_counts(normalize=True).unstack() * 100\n",
        "print(domain_age_phishing.reset_index())"
      ],
      "metadata": {
        "colab": {
          "base_uri": "https://localhost:8080/"
        },
        "id": "fJ15ex0sCoLp",
        "outputId": "8b5831cf-6290-43cc-9569-1cde24a2a6a0"
      },
      "execution_count": 159,
      "outputs": [
        {
          "output_type": "stream",
          "name": "stdout",
          "text": [
            "Is_Phishing  Domain_Age          0          1\n",
            "0                     0  50.349650  49.650350\n",
            "1                     1  47.736093  52.263907\n",
            "2                     2  50.068776  49.931224\n",
            "3                     3  52.010050  47.989950\n",
            "4                     4  48.682386  51.317614\n",
            "5                     5  52.638353  47.361647\n",
            "6                     6  50.128866  49.871134\n",
            "7                     7  51.491569  48.508431\n",
            "8                     8  49.475066  50.524934\n",
            "9                     9  47.854356  52.145644\n",
            "10                   10  51.203209  48.796791\n",
            "11                   11  51.478495  48.521505\n",
            "12                   12  49.519890  50.480110\n",
            "13                   13  48.204420  51.795580\n",
            "14                   14  50.958904  49.041096\n",
            "15                   15  49.315068  50.684932\n",
            "16                   16  49.934811  50.065189\n",
            "17                   17  50.974930  49.025070\n",
            "18                   18  51.326260  48.673740\n",
            "19                   19  51.235371  48.764629\n"
          ]
        }
      ]
    },
    {
      "cell_type": "code",
      "source": [
        "sns.lineplot(x='Domain_Age',y='Is_Phishing',data=domain_name_phishing_count,palette=\"magma\")\n",
        "plt.title(\"Often distribution of phishing based on Domain Age\")\n",
        "plt.xlabel(\"Domain Age\")\n",
        "plt.ylabel(\"Is Phishing\")"
      ],
      "metadata": {
        "colab": {
          "base_uri": "https://localhost:8080/",
          "height": 489
        },
        "id": "lGOyIyKRDL4x",
        "outputId": "63233dce-cd48-434b-844d-bc312a630f61"
      },
      "execution_count": 160,
      "outputs": [
        {
          "output_type": "execute_result",
          "data": {
            "text/plain": [
              "Text(0, 0.5, 'Is Phishing')"
            ]
          },
          "metadata": {},
          "execution_count": 160
        },
        {
          "output_type": "display_data",
          "data": {
            "text/plain": [
              "<Figure size 640x480 with 1 Axes>"
            ],
            "image/png": "[encoded data removed]"
          },
          "metadata": {}
        }
      ]
    },
    {
      "cell_type": "markdown",
      "source": [
        "older Domain Age is reducing the phising Count"
      ],
      "metadata": {
        "id": "sCkAevEirYKf"
      }
    },
    {
      "cell_type": "code",
      "source": [
        "#let see distribution of domain age\n",
        "sns.distplot(phishing_data['Domain_Age'])\n",
        "plt.title(\"Distribution of Domain Age\")"
      ],
      "metadata": {
        "colab": {
          "base_uri": "https://localhost:8080/",
          "height": 489
        },
        "id": "SlOYd6GCEAa9",
        "outputId": "690af724-b861-4c89-dbfc-6d307ffd5edd"
      },
      "execution_count": 161,
      "outputs": [
        {
          "output_type": "execute_result",
          "data": {
            "text/plain": [
              "Text(0.5, 1.0, 'Distribution of Domain Age')"
            ]
          },
          "metadata": {},
          "execution_count": 161
        },
        {
          "output_type": "display_data",
          "data": {
            "text/plain": [
              "<Figure size 640x480 with 1 Axes>"
            ],
            "image/png": "[encoded data removed]"
          },
          "metadata": {}
        }
      ]
    },
    {
      "cell_type": "code",
      "source": [
        "phishing_data['Domain_Age_Category'] = pd.qcut(phishing_data['Domain_Age'],q=3,labels=['Short','Medium','Long'])\n",
        "phishing_data['Domain_Age_Category'] = phishing_data['Domain_Age_Category'].astype('category')\n",
        "phishing_data.dtypes"
      ],
      "metadata": {
        "colab": {
          "base_uri": "https://localhost:8080/",
          "height": 805
        },
        "id": "rZDqkncDE4uN",
        "outputId": "ccfef513-3bef-4e1a-b59b-626cfe840985"
      },
      "execution_count": 162,
      "outputs": [
        {
          "output_type": "execute_result",
          "data": {
            "text/plain": [
              "URL_Length                   int32\n",
              "Has_IP_Address               int32\n",
              "HTTPS_Usage                  int32\n",
              "Domain_Age                   int32\n",
              "Domain_Expiration            int32\n",
              "Number_of_Subdomains         int32\n",
              "Alexa_Rank                   int32\n",
              "Number_of_Dots               int32\n",
              "Shortened_URL                int32\n",
              "Suspicious_Words             int32\n",
              "Customer_ID                  int32\n",
              "Iframe_Usage                 int32\n",
              "Mouse_Over_Behavior          int32\n",
              "Page_Redirects               int32\n",
              "DNS_Record_Validity          int32\n",
              "SSL_Certificate_Issuer       int32\n",
              "Loading_Time               float64\n",
              "Number_of_Links              int32\n",
              "Favicon_Match                int32\n",
              "Is_Phishing                  int32\n",
              "Risk_Score                   int64\n",
              "URL_Length_Category       category\n",
              "Domain_Age_Category       category\n",
              "dtype: object"
            ],
            "text/html": [
              "<div>\n",
              "<style scoped>\n",
              "    .dataframe tbody tr th:only-of-type {\n",
              "        vertical-align: middle;\n",
              "    }\n",
              "\n",
              "    .dataframe tbody tr th {\n",
              "        vertical-align: top;\n",
              "    }\n",
              "\n",
              "    .dataframe thead th {\n",
              "        text-align: right;\n",
              "    }\n",
              "</style>\n",
              "<table border=\"1\" class=\"dataframe\">\n",
              "  <thead>\n",
              "    <tr style=\"text-align: right;\">\n",
              "      <th></th>\n",
              "      <th>0</th>\n",
              "    </tr>\n",
              "  </thead>\n",
              "  <tbody>\n",
              "    <tr>\n",
              "      <th>URL_Length</th>\n",
              "      <td>int32</td>\n",
              "    </tr>\n",
              "    <tr>\n",
              "      <th>Has_IP_Address</th>\n",
              "      <td>int32</td>\n",
              "    </tr>\n",
              "    <tr>\n",
              "      <th>HTTPS_Usage</th>\n",
              "      <td>int32</td>\n",
              "    </tr>\n",
              "    <tr>\n",
              "      <th>Domain_Age</th>\n",
              "      <td>int32</td>\n",
              "    </tr>\n",
              "    <tr>\n",
              "      <th>Domain_Expiration</th>\n",
              "      <td>int32</td>\n",
              "    </tr>\n",
              "    <tr>\n",
              "      <th>Number_of_Subdomains</th>\n",
              "      <td>int32</td>\n",
              "    </tr>\n",
              "    <tr>\n",
              "      <th>Alexa_Rank</th>\n",
              "      <td>int32</td>\n",
              "    </tr>\n",
              "    <tr>\n",
              "      <th>Number_of_Dots</th>\n",
              "      <td>int32</td>\n",
              "    </tr>\n",
              "    <tr>\n",
              "      <th>Shortened_URL</th>\n",
              "      <td>int32</td>\n",
              "    </tr>\n",
              "    <tr>\n",
              "      <th>Suspicious_Words</th>\n",
              "      <td>int32</td>\n",
              "    </tr>\n",
              "    <tr>\n",
              "      <th>Customer_ID</th>\n",
              "      <td>int32</td>\n",
              "    </tr>\n",
              "    <tr>\n",
              "      <th>Iframe_Usage</th>\n",
              "      <td>int32</td>\n",
              "    </tr>\n",
              "    <tr>\n",
              "      <th>Mouse_Over_Behavior</th>\n",
              "      <td>int32</td>\n",
              "    </tr>\n",
              "    <tr>\n",
              "      <th>Page_Redirects</th>\n",
              "      <td>int32</td>\n",
              "    </tr>\n",
              "    <tr>\n",
              "      <th>DNS_Record_Validity</th>\n",
              "      <td>int32</td>\n",
              "    </tr>\n",
              "    <tr>\n",
              "      <th>SSL_Certificate_Issuer</th>\n",
              "      <td>int32</td>\n",
              "    </tr>\n",
              "    <tr>\n",
              "      <th>Loading_Time</th>\n",
              "      <td>float64</td>\n",
              "    </tr>\n",
              "    <tr>\n",
              "      <th>Number_of_Links</th>\n",
              "      <td>int32</td>\n",
              "    </tr>\n",
              "    <tr>\n",
              "      <th>Favicon_Match</th>\n",
              "      <td>int32</td>\n",
              "    </tr>\n",
              "    <tr>\n",
              "      <th>Is_Phishing</th>\n",
              "      <td>int32</td>\n",
              "    </tr>\n",
              "    <tr>\n",
              "      <th>Risk_Score</th>\n",
              "      <td>int64</td>\n",
              "    </tr>\n",
              "    <tr>\n",
              "      <th>URL_Length_Category</th>\n",
              "      <td>category</td>\n",
              "    </tr>\n",
              "    <tr>\n",
              "      <th>Domain_Age_Category</th>\n",
              "      <td>category</td>\n",
              "    </tr>\n",
              "  </tbody>\n",
              "</table>\n",
              "</div><br><label><b>dtype:</b> object</label>"
            ]
          },
          "metadata": {},
          "execution_count": 162
        }
      ]
    },
    {
      "cell_type": "code",
      "source": [
        "#let see how domain Age category after the phishing and non phishing probability\n",
        "domain_age_category_phishing = phishing_data.groupby('Domain_Age_Category')['Is_Phishing'].value_counts(normalize=True).unstack() * 100\n",
        "print(domain_age_category_phishing)\n",
        "\n",
        "def perform_chi_square_testing(domain_age_category_phishing):\n",
        "  \"\"\" Performing the Chi square testing \"\"\"\n",
        "  try:\n",
        "    chi2_stats , p_value , dof , expected = stats.chi2_contingency(domain_age_category_phishing)\n",
        "    threshold_value = 0.05\n",
        "    if p_value < threshold_value:\n",
        "      print(\" There is significance relationship between Domain Age and phishing Probability\")\n",
        "    else:\n",
        "      print(\"There is no significance relationship between Domain Age and Phishing Probability\")\n",
        "  except Exception as e:\n",
        "    raise e\n",
        "\n",
        "perform_chi_square_testing(domain_age_category_phishing)"
      ],
      "metadata": {
        "colab": {
          "base_uri": "https://localhost:8080/"
        },
        "id": "UM71xvkWFgD2",
        "outputId": "810871bd-80bc-4c78-f237-1a76f2ac1381"
      },
      "execution_count": 165,
      "outputs": [
        {
          "output_type": "stream",
          "name": "stdout",
          "text": [
            "Is_Phishing                  0          1\n",
            "Domain_Age_Category                      \n",
            "Short                50.255440  49.744560\n",
            "Medium               49.895178  50.104822\n",
            "Long                 50.626679  49.373321\n",
            "There is no significance relationship between Domain Age and Phishing Probaility\n"
          ]
        }
      ]
    },
    {
      "cell_type": "markdown",
      "source": [
        "4. how domain expiration affect the Phishing and non phishing probability"
      ],
      "metadata": {
        "id": "-G8W7TCdGh7E"
      }
    },
    {
      "cell_type": "markdown",
      "source": [
        "domain expiration is just like days before the domain expires for any website URL"
      ],
      "metadata": {
        "id": "6Wu6E-J_HDTY"
      }
    },
    {
      "cell_type": "code",
      "source": [
        "#let see the distribution of Domain Expiration\n",
        "plt.figure(figsize=(10,6))\n",
        "sns.histplot(phishing_data['Domain_Expiration'])\n",
        "plt.title(\"Distribution of Domain Expiration\")"
      ],
      "metadata": {
        "colab": {
          "base_uri": "https://localhost:8080/",
          "height": 581
        },
        "id": "616x14_TGVOS",
        "outputId": "22c77e4c-df11-4ff2-ce23-fb6ad33b7268"
      },
      "execution_count": 170,
      "outputs": [
        {
          "output_type": "execute_result",
          "data": {
            "text/plain": [
              "Text(0.5, 1.0, 'Distribution of Domain Expiration')"
            ]
          },
          "metadata": {},
          "execution_count": 170
        },
        {
          "output_type": "display_data",
          "data": {
            "text/plain": [
              "<Figure size 1000x600 with 1 Axes>"
            ],
            "image/png": "[encoded data removed]"
          },
          "metadata": {}
        }
      ]
    },
    {
      "cell_type": "markdown",
      "source": [
        "categorizing the Domain Expiration into Multiple Categories\n",
        "*  0-30 days - high risk of phishing\n",
        "*  31 - 365 days = moderate risk\n",
        "*  366-1825 days -  low risk\n",
        "*  1826 - 3650 days - very low risk\n",
        "*  3651 + days = extremely low risk\n"
      ],
      "metadata": {
        "id": "MohgmhkrH643"
      }
    },
    {
      "cell_type": "code",
      "source": [
        "try:\n",
        "  phishing_data[\"Domain_Expiration_categories\"] = pd.cut(phishing_data[\"Domain_Expiration\"],bins=5,labels=[\"High Risk\",\"Moderate Risk\",\"Low Risk\",\"very_low_risk\",\"extremlty_low_risk\"])\n",
        "  if not phishing_data[\"Domain_Expiration_categories\"].empty:\n",
        "    print(\"Domain Expiration is categorized into low risk , high risk , moderate risk\")\n",
        "  else:\n",
        "    print(\"Domain Expiration is not categorized into low risk , high risk , moderate risk\")\n",
        "except Exception as e:\n",
        "  raise e"
      ],
      "metadata": {
        "colab": {
          "base_uri": "https://localhost:8080/"
        },
        "id": "K2fgA-k9HtHg",
        "outputId": "75b4ef1b-3f33-4509-8522-797cf4ca4f7c"
      },
      "execution_count": 185,
      "outputs": [
        {
          "output_type": "stream",
          "name": "stdout",
          "text": [
            "Domain Expiration is categorized into low risk , high risk , moderate risk\n"
          ]
        }
      ]
    },
    {
      "cell_type": "code",
      "source": [
        "plt.figure(figsize=(10,6))\n",
        "sns.histplot(phishing_data['Domain_Expiration_categories'])\n",
        "plt.title(\"Distribution of Domain Expiration categories\")"
      ],
      "metadata": {
        "colab": {
          "base_uri": "https://localhost:8080/",
          "height": 581
        },
        "id": "SvRHOFF_JT16",
        "outputId": "22326b25-ddad-456d-db0b-cd64d555524f"
      },
      "execution_count": 186,
      "outputs": [
        {
          "output_type": "execute_result",
          "data": {
            "text/plain": [
              "Text(0.5, 1.0, 'Distribution of Domain Expiration categories')"
            ]
          },
          "metadata": {},
          "execution_count": 186
        },
        {
          "output_type": "display_data",
          "data": {
            "text/plain": [
              "<Figure size 1000x600 with 1 Axes>"
            ],
            "image/png": "[encoded data removed]"
          },
          "metadata": {}
        }
      ]
    },
    {
      "cell_type": "code",
      "source": [
        "\n",
        "\n",
        "#let see how domain expiration days categories help in phising probability\n",
        "domain_expiration_phishing = phishing_data.groupby('Domain_Expiration_categories')['Is_Phishing'].value_counts(normalize=True).unstack() * 100\n",
        "# Reset the index\n",
        "domain_expiration_phishing = domain_expiration_phishing.reset_index()\n",
        "print(domain_expiration_phishing)\n",
        "\n",
        "# Access the 'Is_Phishing' column correctly\n",
        "sns.barplot(x='Domain_Expiration_categories', y=domain_expiration_phishing.columns[1], data=domain_expiration_phishing, palette=\"magma\")\n",
        "plt.title(\"Often distribution of phishing based on Domain Expiration\")\n",
        "plt.xlabel(\"Domain Expiration\")\n",
        "plt.ylabel(\"Is Phishing\")\n",
        "plt.legend(domain_expiration_phishing.columns[1:])\n",
        "\n",
        "for bars in plt.gca().containers:\n",
        "  plt.bar_label(bars)"
      ],
      "metadata": {
        "colab": {
          "base_uri": "https://localhost:8080/",
          "height": 576
        },
        "id": "EWVNWLaNOApa",
        "outputId": "bc89eded-8921-4d8b-f60e-b0dceb8d2877"
      },
      "execution_count": 200,
      "outputs": [
        {
          "output_type": "stream",
          "name": "stdout",
          "text": [
            "Is_Phishing Domain_Expiration_categories          0          1\n",
            "0                              High Risk  48.470052  51.529948\n",
            "1                          Moderate Risk  49.432955  50.567045\n",
            "2                               Low Risk  51.694062  48.305938\n",
            "3                          very_low_risk  50.355571  49.644429\n",
            "4                     extremlty_low_risk  51.301736  48.698264\n"
          ]
        },
        {
          "output_type": "display_data",
          "data": {
            "text/plain": [
              "<Figure size 640x480 with 1 Axes>"
            ],
            "image/png": "[encoded data removed]"
          },
          "metadata": {}
        }
      ]
    },
    {
      "cell_type": "markdown",
      "source": [
        "now let see how domain expiration helps in phising detection"
      ],
      "metadata": {
        "id": "wcRtnoruKLz7"
      }
    },
    {
      "cell_type": "code",
      "source": [
        "#let see how domain Age category after the phishing and non phishing probability\n",
        "domain_expiration_category_phishing = phishing_data.groupby('Domain_Expiration_categories')['Is_Phishing'].value_counts(normalize=True).unstack() * 100\n",
        "print(domain_expiration_category_phishing)\n",
        "\n",
        "def perform_chi_square_testing(domain_expiration_category_phishing):\n",
        "  \"\"\" Performing the Chi square testing \"\"\"\n",
        "  try:\n",
        "    chi2_stats , p_value , dof , expected = stats.chi2_contingency(domain_expiration_category_phishing)\n",
        "    threshold_value = 0.05\n",
        "    if p_value < threshold_value:\n",
        "      print(\" There is significance relationship between Domain Age and phishing Probability\")\n",
        "    else:\n",
        "      print(\"There is no significance relationship between Domain Age and Phishing Probability\")\n",
        "  except Exception as e:\n",
        "    raise e\n",
        "\n",
        "perform_chi_square_testing(domain_expiration_category_phishing)"
      ],
      "metadata": {
        "colab": {
          "base_uri": "https://localhost:8080/"
        },
        "id": "GhqbRw-DJf9G",
        "outputId": "64f6c2b0-62bb-4e42-e66c-e57ac342619c"
      },
      "execution_count": 187,
      "outputs": [
        {
          "output_type": "stream",
          "name": "stdout",
          "text": [
            "Is_Phishing                           0          1\n",
            "Domain_Expiration_categories                      \n",
            "High Risk                     48.470052  51.529948\n",
            "Moderate Risk                 49.432955  50.567045\n",
            "Low Risk                      51.694062  48.305938\n",
            "very_low_risk                 50.355571  49.644429\n",
            "extremlty_low_risk            51.301736  48.698264\n",
            "There is no significance relationship between Domain Age and Phishing Probability\n"
          ]
        }
      ]
    },
    {
      "cell_type": "markdown",
      "source": [
        "since there is no significance differnece between the catgeory and phishing so it might be give inaccurate result so it should not consider to be\n"
      ],
      "metadata": {
        "id": "wARSbqVSVuRF"
      }
    },
    {
      "cell_type": "markdown",
      "source": [
        "how number of subdomains effect the phishing probability\n"
      ],
      "metadata": {
        "id": "C50hQo2cMJz1"
      }
    },
    {
      "cell_type": "code",
      "source": [
        "#let see distrution of number of subdomains\n",
        "sns.kdeplot(phishing_data['Number_of_Subdomains'])\n",
        "plt.title(\"Distribution of Number of Subdomains\")"
      ],
      "metadata": {
        "colab": {
          "base_uri": "https://localhost:8080/",
          "height": 489
        },
        "id": "zT0qzzazKnwF",
        "outputId": "819ef6b4-31e9-4aae-f5e9-2c357b28db64"
      },
      "execution_count": 197,
      "outputs": [
        {
          "output_type": "execute_result",
          "data": {
            "text/plain": [
              "Text(0.5, 1.0, 'Distribution of Number of Subdomains')"
            ]
          },
          "metadata": {},
          "execution_count": 197
        },
        {
          "output_type": "display_data",
          "data": {
            "text/plain": [
              "<Figure size 640x480 with 1 Axes>"
            ],
            "image/png": "[encoded data removed]"
          },
          "metadata": {}
        }
      ]
    },
    {
      "cell_type": "markdown",
      "source": [
        "*  0-1 subdomain likely to be legitimate site\n",
        "*  1-2 subdomain can be legitimate site but possible to watch out for suspicious behaviour\n",
        "\n",
        "*  2-3 subdomain and 3-4 subdomain can detect the susspicous threat for phising\n",
        "\n"
      ],
      "metadata": {
        "id": "PYCBFLe0PdWY"
      }
    },
    {
      "cell_type": "markdown",
      "source": [
        "let see how tyep of each subdomain affect the phising probability"
      ],
      "metadata": {
        "id": "uR9PwWPQQkaA"
      }
    },
    {
      "cell_type": "code",
      "source": [
        "sub_domain_phishing = phishing_data.groupby('Number_of_Subdomains')['Is_Phishing'].value_counts(normalize=True).unstack() * 100\n",
        "\n",
        "#reset index\n",
        "sub_domain_phishing = sub_domain_phishing.reset_index()\n",
        "print(sub_domain_phishing)\n",
        "\n",
        "sns.barplot(x='Number_of_Subdomains',y=sub_domain_phishing.columns[1],data=sub_domain_phishing,palette=\"magma\")\n",
        "plt.title(\"Often distribution of phishing based on Number of Subdomains\")\n",
        "plt.xlabel(\"Number of Subdomains\")\n",
        "plt.ylabel(\"Is Phishing\")\n",
        "plt.legend(sub_domain_phishing.columns[1::])\n",
        "\n",
        "for bars in plt.gca().containers:\n",
        "  plt.bar_label(bars)"
      ],
      "metadata": {
        "colab": {
          "base_uri": "https://localhost:8080/",
          "height": 576
        },
        "id": "Ca6_tH4PMyZc",
        "outputId": "ba128764-5cd9-4a3d-f55a-c69c1430a539"
      },
      "execution_count": 203,
      "outputs": [
        {
          "output_type": "stream",
          "name": "stdout",
          "text": [
            "Is_Phishing  Number_of_Subdomains          0          1\n",
            "0                               0  49.335106  50.664894\n",
            "1                               1  50.776346  49.223654\n",
            "2                               2  50.593421  49.406579\n",
            "3                               3  50.475878  49.524122\n",
            "4                               4  50.016841  49.983159\n"
          ]
        },
        {
          "output_type": "display_data",
          "data": {
            "text/plain": [
              "<Figure size 640x480 with 1 Axes>"
            ],
            "image/png": "[encoded data removed]"
          },
          "metadata": {}
        }
      ]
    },
    {
      "cell_type": "markdown",
      "source": [
        "performing the two tail sample testing differ from phising detection system"
      ],
      "metadata": {
        "id": "b5adfQClRRgc"
      }
    },
    {
      "cell_type": "code",
      "source": [
        "group_1 = phishing_data[phishing_data['Number_of_Subdomains'] == 0]['Is_Phishing']\n",
        "group_2 = phishing_data[phishing_data['Number_of_Subdomains'] == 1]['Is_Phishing']\n",
        "group_3 = phishing_data[phishing_data['Number_of_Subdomains'] == 2]['Is_Phishing']\n",
        "group_4 = phishing_data[phishing_data['Number_of_Subdomains'] == 3]['Is_Phishing']\n",
        "group_4 = phishing_data[phishing_data['Number_of_Subdomains'] == 4]['Is_Phishing']\n",
        "\n",
        "\"\"\" Performing the T_test testing \"\"\"\n",
        "t_stats_1 , p_value_1 = stats.ttest_ind(group_1,group_2)\n",
        "t_stats_2 , p_value_2 = stats.ttest_ind(group_2,group_3)\n",
        "t_stats_3 , p_value_3 = stats.ttest_ind(group_3,group_4)\n",
        "\n",
        "if p_value_1 < 0.05:\n",
        "  print(\"Reject the null hypothesis ,  significant distribution in  group 1 and group 2 \")\n",
        "else:\n",
        "   print(\"Accept the null hypothesis , no significant distribution in group 1 and group 2\")\n",
        "\n",
        "\n",
        "if p_value_2 < 0.05:\n",
        "  print(\"Reject the null hypothesis ,  significant distribution in  group 2 and group 3 \")\n",
        "else:\n",
        "   print(\"Accept the null hypothesis , no significant distribution in group 3 and group 3\")\n",
        "\n",
        "\n",
        "if p_value_3 < 0.05:\n",
        "  print(\"Reject the null hypothesis ,  significant distribution in  group 3 and group 4 \")\n",
        "else:\n",
        "   print(\"Accept the null hypothesis , no significant distribution in group 3 and group 4\")\n"
      ],
      "metadata": {
        "colab": {
          "base_uri": "https://localhost:8080/"
        },
        "id": "VT2-9itbQzZZ",
        "outputId": "01e5fa81-600a-45d3-afaa-65181ac83386"
      },
      "execution_count": 205,
      "outputs": [
        {
          "output_type": "stream",
          "name": "stdout",
          "text": [
            "Accept the null hypothesis , no significant distribution in group 1 and group 2\n",
            "Accept the null hypothesis , no significant distribution in group 3 and group 3\n",
            "Accept the null hypothesis , no significant distribution in group 3 and group 4\n"
          ]
        }
      ]
    },
    {
      "cell_type": "markdown",
      "source": [
        "since there is no significant distribution so it might be considered to not to select this feature"
      ],
      "metadata": {
        "id": "bld_nrirVIo2"
      }
    },
    {
      "cell_type": "markdown",
      "source": [
        "5. how Alexa Rank helps to detect the phishing probability"
      ],
      "metadata": {
        "id": "n7vIV0L-g8c7"
      }
    },
    {
      "cell_type": "markdown",
      "source": [
        "Alexa Rank is a ranking system that measures the popularity of a website based on its traffic. It was provided by Alexa Internet, a subsidiary of Amazon (which shut down in 2022)"
      ],
      "metadata": {
        "id": "lFhp5sfUhbWU"
      }
    },
    {
      "cell_type": "markdown",
      "source": [
        "Low Rank (Popular & Trusted): Alexa Rank ≤ 100,000\n",
        "\n",
        "Medium Rank (Moderate Popularity): Alexa Rank 100,001 – 1,000,000\n",
        "\n",
        "High Rank (Suspicious/Unpopular): Alexa Rank > 1,000,000\n",
        "\n"
      ],
      "metadata": {
        "id": "48z9GQCNhwoG"
      }
    },
    {
      "cell_type": "code",
      "source": [
        "#categorizing the alexa rank on the basis of rank\n",
        "def categorize_alexa_rank(rank):\n",
        "  if rank <= 100000:\n",
        "    return \"Low Rank\"\n",
        "  elif rank <= 1000000:\n",
        "    return \"Medium Rank\"\n",
        "  else:\n",
        "    return \"High Rank\"\n",
        "\n",
        "phishing_data['Alexa_Rank_Category'] = phishing_data['Alexa_Rank'].apply(categorize_alexa_rank)\n",
        "phishing_data['Alexa_Rank_Category'] = phishing_data['Alexa_Rank_Category'].astype('category')"
      ],
      "metadata": {
        "id": "utIjCpLgcQFO"
      },
      "execution_count": 263,
      "outputs": []
    },
    {
      "cell_type": "markdown",
      "source": [
        "let see how rank distributed the on the basis fo phising"
      ],
      "metadata": {
        "id": "PC6Z07tTiDC9"
      }
    },
    {
      "cell_type": "code",
      "source": [
        "distribution_rank_category = phishing_data.groupby('Alexa_Rank_Category')['Is_Phishing'].value_counts(normalize=True).unstack() * 100\n",
        "distribution_rank_category = distribution_rank_category.reset_index()\n",
        "print(distribution_rank_category)\n",
        "\n",
        "\n",
        "plt.pie(\n",
        "    distribution_rank_category[0],\n",
        "    labels=distribution_rank_category['Alexa_Rank_Category'],\n",
        "    autopct='%1.1f%%',\n",
        "    colors=['green','orange'],\n",
        ")"
      ],
      "metadata": {
        "colab": {
          "base_uri": "https://localhost:8080/",
          "height": 562
        },
        "id": "CNBur4XRhOQK",
        "outputId": "6622af48-330f-49b1-cd13-37521bc6b4da"
      },
      "execution_count": 267,
      "outputs": [
        {
          "output_type": "stream",
          "name": "stdout",
          "text": [
            "Is_Phishing Alexa_Rank_Category          0          1\n",
            "0                      Low Rank  49.692833  50.307167\n",
            "1                   Medium Rank  50.299224  49.700776\n"
          ]
        },
        {
          "output_type": "execute_result",
          "data": {
            "text/plain": [
              "([<matplotlib.patches.Wedge at 0x7da902ab2950>,\n",
              "  <matplotlib.patches.Wedge at 0x7da903031710>],\n",
              " [Text(0.010478409200932785, 1.0999500911135096, 'Low Rank'),\n",
              "  Text(-0.01047818191596883, -1.0999500932786614, 'Medium Rank')],\n",
              " [Text(0.005715495927781519, 0.5999727769710052, '49.7%'),\n",
              "  Text(-0.005715371954164815, -0.5999727781519971, '50.3%')])"
            ]
          },
          "metadata": {},
          "execution_count": 267
        },
        {
          "output_type": "display_data",
          "data": {
            "text/plain": [
              "<Figure size 640x480 with 1 Axes>"
            ],
            "image/png": "[encoded data removed]"
          },
          "metadata": {}
        }
      ]
    },
    {
      "cell_type": "markdown",
      "source": [
        "since high rank decides yur suspicous phising threat on website so there is no signifanctly relations between the phising probability"
      ],
      "metadata": {
        "id": "10YV9AxXilGi"
      }
    },
    {
      "cell_type": "markdown",
      "source": [
        "6. how Number of dots affect the website url for reducing the phishing rate"
      ],
      "metadata": {
        "id": "WgTM3bRji0gR"
      }
    },
    {
      "cell_type": "code",
      "source": [
        "#how number dots increase the phishing count\n",
        "count_phishing_based_on_number_of_dots = phishing_data.groupby('Number_of_Dots')['Is_Phishing'].value_counts(normalize=True).unstack() * 100\n",
        "count_phishing_based_on_number_of_dots = count_phishing_based_on_number_of_dots.reset_index()\n",
        "print(count_phishing_based_on_number_of_dots)\n",
        "\n",
        "fig , ax = plt.subplots(nrows=1,ncols=2)\n",
        "\n",
        "sns.lineplot(x='Number_of_Dots',y=count_phishing_based_on_number_of_dots.columns[1],data=count_phishing_based_on_number_of_dots,palette=\"magma\",ax=ax[0])\n",
        "sns.lineplot(x='Number_of_Dots',y=count_phishing_based_on_number_of_dots.columns[2],data=count_phishing_based_on_number_of_dots,palette=\"magma\",ax=ax[1])"
      ],
      "metadata": {
        "colab": {
          "base_uri": "https://localhost:8080/",
          "height": 558
        },
        "id": "fo2wuZarh8aV",
        "outputId": "07c48e90-4cee-4abd-a81c-363ef549fdea"
      },
      "execution_count": 276,
      "outputs": [
        {
          "output_type": "stream",
          "name": "stdout",
          "text": [
            "Is_Phishing  Number_of_Dots          0          1\n",
            "0                         1  49.413299  50.586701\n",
            "1                         2  50.571656  49.428344\n",
            "2                         3  50.267380  49.732620\n",
            "3                         4  50.736900  49.263100\n"
          ]
        },
        {
          "output_type": "execute_result",
          "data": {
            "text/plain": [
              "<Axes: xlabel='Number_of_Dots', ylabel='1'>"
            ]
          },
          "metadata": {},
          "execution_count": 276
        },
        {
          "output_type": "display_data",
          "data": {
            "text/plain": [
              "<Figure size 640x480 with 2 Axes>"
            ],
            "image/png": "[encoded data removed]"
          },
          "metadata": {}
        }
      ]
    },
    {
      "cell_type": "code",
      "source": [
        "fig , ax = plt.subplots(nrows=1,ncols=2)\n",
        "\n",
        "sns.scatterplot(x='Number_of_Dots',y=count_phishing_based_on_number_of_dots.columns[1],data=count_phishing_based_on_number_of_dots,ax=ax[0])\n",
        "sns.scatterplot(x='Number_of_Dots',y=count_phishing_based_on_number_of_dots.columns[2],data=count_phishing_based_on_number_of_dots,ax=ax[1])"
      ],
      "metadata": {
        "colab": {
          "base_uri": "https://localhost:8080/",
          "height": 471
        },
        "id": "RPLn1rZ4kRDM",
        "outputId": "cd000036-0241-497f-b9c4-13a8d83dde80"
      },
      "execution_count": 280,
      "outputs": [
        {
          "output_type": "execute_result",
          "data": {
            "text/plain": [
              "<Axes: xlabel='Number_of_Dots', ylabel='1'>"
            ]
          },
          "metadata": {},
          "execution_count": 280
        },
        {
          "output_type": "display_data",
          "data": {
            "text/plain": [
              "<Figure size 640x480 with 2 Axes>"
            ],
            "image/png": "[encoded data removed]"
          },
          "metadata": {}
        }
      ]
    },
    {
      "cell_type": "markdown",
      "source": [
        "so Number of dots so Positive colinearity for Non phising  and Negative colinearity fir Number of odst increase for phising\n",
        "\n",
        "so it might consider model predicts the number of dost it will detect and predict more for non phising detection and reduce the phising probability"
      ],
      "metadata": {
        "id": "jWybbqodnNji"
      }
    },
    {
      "cell_type": "code",
      "source": [
        "#let check for chi square testing to select the signifcant features\n",
        "def perform_chi_square_testing(count_phishing_based_on_number_of_dots):\n",
        "  \"\"\" Performing the Chi square testing \"\"\"\n",
        "  chi_stats , p_value , dof , expected = stats.chi2_contingency(count_phishing_based_on_number_of_dots)\n",
        "  threshold_value = 0.05\n",
        "  if p_value < threshold_value:\n",
        "    print(\" There is significance relationship between Number of Dots and phishing Probability\")\n",
        "  else:\n",
        "    print(\"There is no significance relationship between Number of Dots and Phishing Probability\")\n",
        "\n",
        "perform_chi_square_testing(count_phishing_based_on_number_of_dots)"
      ],
      "metadata": {
        "colab": {
          "base_uri": "https://localhost:8080/"
        },
        "id": "1QAO4HoHm3-m",
        "outputId": "81a26d11-dfc0-42b2-a30a-6d258000b55e"
      },
      "execution_count": 282,
      "outputs": [
        {
          "output_type": "stream",
          "name": "stdout",
          "text": [
            "There is no significance relationship between Number of Dots and Phishing Probability\n"
          ]
        }
      ]
    },
    {
      "cell_type": "markdown",
      "source": [
        "since the Chi square test failed to reject the Hypothesis but number of dots increase the Non phisinh probability and reducing the Phising Probability so it will consider as feature"
      ],
      "metadata": {
        "id": "cUR1Hi-iq_EV"
      }
    },
    {
      "cell_type": "markdown",
      "source": [
        "7.  HTTP Usage effect on Phising Detection System"
      ],
      "metadata": {
        "id": "3WKqA4w4rd6u"
      }
    },
    {
      "cell_type": "code",
      "source": [
        "#let see how Having HTTPS in website url detect the phising Probability and Non phising Probability\n",
        "http_address_phishing_count = phishing_data.groupby(\"HTTPS_Usage\")[\"Is_Phishing\"].value_counts(normalize=True).unstack() * 100\n",
        "\n",
        "#reseting index\n",
        "http_address_phishing_count = http_address_phishing_count.reset_index()\n",
        "print(http_address_phishing_count)\n",
        "\n",
        "#plotting the pie plot\n",
        "plt.pie(\n",
        "    http_address_phishing_count[0],\n",
        "    labels=http_address_phishing_count['HTTPS_Usage'],\n",
        "    autopct='%1.1f%%',\n",
        "    colors=['green','orange'],\n",
        ")\n",
        "\n",
        "plt.title(\"Often distribution of phishing based on HTTP Usage\")\n",
        "plt.legend()"
      ],
      "metadata": {
        "colab": {
          "base_uri": "https://localhost:8080/",
          "height": 497
        },
        "id": "YGaR1yYdoFrE",
        "outputId": "178a6ce6-abb0-48ca-8c11-b6537c33b017"
      },
      "execution_count": 288,
      "outputs": [
        {
          "output_type": "stream",
          "name": "stdout",
          "text": [
            "Is_Phishing  HTTPS_Usage          0          1\n",
            "0                      0  50.920326  49.079674\n",
            "1                      1  49.540168  50.459832\n"
          ]
        },
        {
          "output_type": "execute_result",
          "data": {
            "text/plain": [
              "<matplotlib.legend.Legend at 0x7da902d9ba90>"
            ]
          },
          "metadata": {},
          "execution_count": 288
        },
        {
          "output_type": "display_data",
          "data": {
            "text/plain": [
              "<Figure size 640x480 with 1 Axes>"
            ],
            "image/png": "[encoded data removed]"
          },
          "metadata": {}
        }
      ]
    },
    {
      "cell_type": "markdown",
      "source": [
        "since having HTTPS in webiste url helps to detect the Phising website so it can be helpful as it doesnot show any correlations between them"
      ],
      "metadata": {
        "id": "kjdzSl2Bs3DY"
      }
    },
    {
      "cell_type": "code",
      "source": [],
      "metadata": {
        "id": "OmodcIGxrw23"
      },
      "execution_count": null,
      "outputs": []
    }
  ]
}